{
 "cells": [
  {
   "cell_type": "markdown",
   "metadata": {},
   "source": [
    "## Aufbau und Aufgaben eines Datenbanksystems\n",
    "\n",
    "Lesen Sie die Seiten 24, 25, 26, 30 und 59 im Buch durch.\n",
    "\n",
    "Danach sollten Sie in der Lage sein, folgende Fragen zu beantworten:\n"
   ]
  },
  {
   "cell_type": "markdown",
   "metadata": {},
   "source": [
    "### Aufgabe 17:\n",
    "\n",
    "17.1 Aus welchen zwei Teilen besteht ein Datenbanksystem? Erklären Sie in je einem Satz, was das jeweils ist, und nennen Sie je ein Beispiel."
   ]
  },
  {
   "cell_type": "markdown",
   "metadata": {},
   "source": []
  },
  {
   "cell_type": "markdown",
   "metadata": {},
   "source": [
    "17.2 Die Daten in einer Datenbank sind in Tabellen organisiert. Erklären Sie, was man in diesem Zusammenhang unter den Begriffen <i>Feldname</i> und <i>Datensatz</i> versteht und nennen Sie je ein Synonym und ein Beispiel."
   ]
  },
  {
   "cell_type": "markdown",
   "metadata": {},
   "source": []
  },
  {
   "cell_type": "markdown",
   "metadata": {},
   "source": [
    "17.3 Erklären Sie, was ein <i>Primärschlüssel</i> ist und wieso er nicht fehlen oder mehrfach vorkommen darf."
   ]
  },
  {
   "cell_type": "markdown",
   "metadata": {},
   "source": []
  },
  {
   "cell_type": "markdown",
   "metadata": {},
   "source": [
    "17.4. Erklären Sie den Unterschied zwischen eine Auswahlabfrage und einer Aktionsabfrage. Nennen Sie ein Beispiel für eine Aktionsabfrage."
   ]
  },
  {
   "cell_type": "markdown",
   "metadata": {},
   "source": []
  }
 ],
 "metadata": {
  "kernelspec": {
   "display_name": "Python 3",
   "language": "python",
   "name": "python3"
  },
  "language_info": {
   "codemirror_mode": {
    "name": "ipython",
    "version": 3
   },
   "file_extension": ".py",
   "mimetype": "text/x-python",
   "name": "python",
   "nbconvert_exporter": "python",
   "pygments_lexer": "ipython3",
   "version": "3.7.1"
  },
  "widgets": {
   "application/vnd.jupyter.widget-state+json": {
    "state": {},
    "version_major": 1,
    "version_minor": 0
   }
  }
 },
 "nbformat": 4,
 "nbformat_minor": 2
}
