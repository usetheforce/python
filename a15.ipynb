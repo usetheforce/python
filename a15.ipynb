{
 "cells": [
  {
   "cell_type": "markdown",
   "metadata": {},
   "source": [
    "## Automatische Zahlenlisten\n",
    "\n",
    "Mit dem `range`-Befehl kann man sich automatisch Zahlenlisten erzeugen lassen. Das Ergebnis muss in Python3 allerdings erst noch in eine Liste umgewandelt werden.\n",
    "\n",
    "<u>Merke wohl</u>: Programmierer fangen bei 0 (\"Null\") an zu zählen.\n",
    "\n",
    "#### Beispiele:"
   ]
  },
  {
   "cell_type": "code",
   "execution_count": 1,
   "metadata": {},
   "outputs": [
    {
     "data": {
      "text/plain": [
       "[0, 1, 2, 3, 4, 5, 6, 7, 8, 9]"
      ]
     },
     "execution_count": 1,
     "metadata": {},
     "output_type": "execute_result"
    }
   ],
   "source": [
    "list( range(10) ) # Zahlen von 0 bis 9"
   ]
  },
  {
   "cell_type": "code",
   "execution_count": 2,
   "metadata": {},
   "outputs": [
    {
     "data": {
      "text/plain": [
       "[5, 6, 7, 8, 9, 10, 11, 12, 13, 14]"
      ]
     },
     "execution_count": 2,
     "metadata": {},
     "output_type": "execute_result"
    }
   ],
   "source": [
    "list ( range(5,15) ) # Liste, die bei 5 anfängt und bei 14 aufhört"
   ]
  },
  {
   "cell_type": "code",
   "execution_count": 4,
   "metadata": {},
   "outputs": [
    {
     "data": {
      "text/plain": [
       "[5, 8, 11, 14]"
      ]
     },
     "execution_count": 4,
     "metadata": {},
     "output_type": "execute_result"
    }
   ],
   "source": [
    "list ( range(5,15,3) ) # wie vor, nur in 3er-Schritten"
   ]
  },
  {
   "cell_type": "markdown",
   "metadata": {},
   "source": [
    "### Hinweis:\n",
    "\n",
    "Der `range`-Befehl ist für die direkte Verwendung in `for`-Schleifen gedacht und braucht dort nicht in eine Liste umgewandelt zu werden. \n",
    "\n",
    "#### Beispiel:"
   ]
  },
  {
   "cell_type": "code",
   "execution_count": 5,
   "metadata": {},
   "outputs": [
    {
     "name": "stdout",
     "output_type": "stream",
     "text": [
      "0\n",
      "1\n",
      "2\n",
      "3\n",
      "4\n"
     ]
    }
   ],
   "source": [
    "for x in range(5):\n",
    "    print(x)"
   ]
  },
  {
   "cell_type": "markdown",
   "metadata": {},
   "source": [
    "### Aufgabe 15:\n",
    "Löse die folgenden Aufgaben in Python und speichere das Ergebnis unter *VornameNachname*-aufgabe12b.ipynb auf Laufwerk H:.\n",
    "\n",
    "1. Finde alle Zahlen zwischen 0 und 1000, die durch 47 teilbar sind.\n",
    "\n",
    "#### Hinweis:\n",
    "\n",
    "Wenn man eine Komma-Zahl mit `int(zahl)` in eine ganze Zahl umwandelt und von `zahl` abzieht, bleiben nur die Nachkommastellen übrig. \n",
    "Wenn eine Division aufgeht, hat das Ergebnis der Division keine Nachkommastellen (d. h. die sind alle Null)."
   ]
  },
  {
   "cell_type": "code",
   "execution_count": null,
   "metadata": {},
   "outputs": [],
   "source": []
  },
  {
   "cell_type": "markdown",
   "metadata": {},
   "source": [
    "### Lösung:\n",
    "\n",
    "0 ist 0 mal 47<br>\n",
    "47 ist 1 mal 47<br>\n",
    "94 ist 2 mal 47<br>\n",
    "141 ist 3 mal 47<br>\n",
    "188 ist 4 mal 47<br>\n",
    "235 ist 5 mal 47<br>\n",
    "282 ist 6 mal 47<br>\n",
    "329 ist 7 mal 47<br>\n",
    "376 ist 8 mal 47<br>\n",
    "423 ist 9 mal 47<br>\n",
    "470 ist 10 mal 47<br>\n",
    "517 ist 11 mal 47<br>\n",
    "564 ist 12 mal 47<br>\n",
    "611 ist 13 mal 47<br>\n",
    "658 ist 14 mal 47<br>\n",
    "705 ist 15 mal 47<br>\n",
    "752 ist 16 mal 47<br>\n",
    "799 ist 17 mal 47<br>\n",
    "846 ist 18 mal 47<br>\n",
    "893 ist 19 mal 47<br>\n",
    "940 ist 20 mal 47<br>\n",
    "987 ist 21 mal 47<br>"
   ]
  }
 ],
 "metadata": {
  "kernelspec": {
   "display_name": "Python 3",
   "language": "python",
   "name": "python3"
  },
  "language_info": {
   "codemirror_mode": {
    "name": "ipython",
    "version": 3
   },
   "file_extension": ".py",
   "mimetype": "text/x-python",
   "name": "python",
   "nbconvert_exporter": "python",
   "pygments_lexer": "ipython3",
   "version": "3.7.1"
  },
  "widgets": {
   "application/vnd.jupyter.widget-state+json": {
    "state": {},
    "version_major": 1,
    "version_minor": 0
   }
  }
 },
 "nbformat": 4,
 "nbformat_minor": 2
}
