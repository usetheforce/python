{
 "cells": [
  {
   "cell_type": "markdown",
   "metadata": {},
   "source": [
    "## Schleifen\n",
    "\n",
    "Computer sind besonders effektiv bei der Ausführung von einfachen Aufgaben, die sehr häufig durchgeführt werden sollen. Dies löst man über sogenannte Schleifen.\n",
    "\n",
    "Eine Programmiersprache ist nur dann als solche zu bezeichnen, wenn sie mindestens über Verzweigungen und Schleifen verfügt."
   ]
  },
  {
   "cell_type": "markdown",
   "metadata": {},
   "source": [
    "### Die `for`-Schleife:\n",
    "\n",
    "Sie macht nacheinander für jedes Objekt in einer Liste das gleiche. \n",
    "\n",
    "#### Beispiele\n"
   ]
  },
  {
   "cell_type": "code",
   "execution_count": 1,
   "metadata": {},
   "outputs": [
    {
     "name": "stdout",
     "output_type": "stream",
     "text": [
      "eins\n",
      "2\n",
      "[3]\n",
      "4.0\n"
     ]
    }
   ],
   "source": [
    "listeMitDingen = [\"eins\",2,[3],4.0]\n",
    "for ding in listeMitDingen:\n",
    "    print( ding )"
   ]
  },
  {
   "cell_type": "markdown",
   "metadata": {},
   "source": [
    "Wie bei der `if`-Anweisung wird alles ausgeführt, was eingerückt ist:"
   ]
  },
  {
   "cell_type": "code",
   "execution_count": 7,
   "metadata": {},
   "outputs": [
    {
     "name": "stdout",
     "output_type": "stream",
     "text": [
      "Das Quadrat von 1 ist 1\n",
      "-----\n",
      "Das Quadrat von 5 ist 25\n",
      "-----\n",
      "Das Quadrat von 128 ist 16384\n",
      "-----\n",
      "Das Quadrat von 4000 ist 16000000\n",
      "-----\n",
      "Das Quadrat von 700000 ist 490000000000\n",
      "-----\n",
      "Ende\n"
     ]
    }
   ],
   "source": [
    "listeMitZahlen = [1,5,128,4000,700000]\n",
    "for zahl in listeMitZahlen:\n",
    "    print( \"Das Quadrat von\",zahl,\"ist\",zahl*zahl )\n",
    "    print( \"-----\" )\n",
    "print( \"Ende\" )"
   ]
  },
  {
   "cell_type": "markdown",
   "metadata": {},
   "source": [
    "### Aufgabe 12:\n",
    "Löse die folgenden Aufgaben in Python und speichere das Ergebnis unter *VornameNachname*-aufgabe12.ipynb auf Laufwerk H:.\n",
    "\n",
    "1. Gegeben seien drei rechtwinklige, gleichschenklige Dreiecke. Die Katheten seien jeweils 1cm, 3cm und 7,99cm lang. Berechnen Sie die Hypothenusen."
   ]
  },
  {
   "cell_type": "code",
   "execution_count": null,
   "metadata": {},
   "outputs": [],
   "source": []
  },
  {
   "cell_type": "markdown",
   "metadata": {},
   "source": [
    "### Lösung:\n",
    "\n",
    "`Die Hypothenuse für Kathete 1 ist 2`<br>\n",
    "`Die Hypothenuse für Kathete 3 ist 18`<br>\n",
    "`Die Hypothenuse für Kathete 7.99 ist 127.68020000000001`<br>"
   ]
  }
 ],
 "metadata": {
  "kernelspec": {
   "display_name": "Python 3",
   "language": "python",
   "name": "python3"
  },
  "language_info": {
   "codemirror_mode": {
    "name": "ipython",
    "version": 3
   },
   "file_extension": ".py",
   "mimetype": "text/x-python",
   "name": "python",
   "nbconvert_exporter": "python",
   "pygments_lexer": "ipython3",
   "version": "3.7.1"
  },
  "widgets": {
   "application/vnd.jupyter.widget-state+json": {
    "state": {},
    "version_major": 1,
    "version_minor": 0
   }
  }
 },
 "nbformat": 4,
 "nbformat_minor": 2
}
