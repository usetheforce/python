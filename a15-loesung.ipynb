{
 "cells": [
  {
   "cell_type": "markdown",
   "metadata": {},
   "source": [
    "### Aufgabe 12b:\n",
    "Löse die folgenden Aufgaben in Python und speichere das Ergebnis unter *VornameNachname*-aufgabe12b.ipynb auf Laufwerk H:.\n",
    "\n",
    "1. Finde alle Zahlen zwischen 0 und 1000, die durch 47 teilbar sind.\n",
    "\n",
    "#### Hinweis:\n",
    "\n",
    "Wenn man eine Komma-Zahl mit `int(zahl)` in eine ganze Zahl umwandelt und von `zahl` abzieht, bleiben nur die Nachkommastellen übrig. \n",
    "Wenn eine Division aufgeht, hat das Ergebnis der Division keine Nachkommastellen (d. h. die sind alle Null)."
   ]
  },
  {
   "cell_type": "code",
   "execution_count": 20,
   "metadata": {},
   "outputs": [
    {
     "name": "stdout",
     "output_type": "stream",
     "text": [
      "0 ist 0 mal 47\n",
      "47 ist 1 mal 47\n",
      "94 ist 2 mal 47\n",
      "141 ist 3 mal 47\n",
      "188 ist 4 mal 47\n",
      "235 ist 5 mal 47\n",
      "282 ist 6 mal 47\n",
      "329 ist 7 mal 47\n",
      "376 ist 8 mal 47\n",
      "423 ist 9 mal 47\n",
      "470 ist 10 mal 47\n",
      "517 ist 11 mal 47\n",
      "564 ist 12 mal 47\n",
      "611 ist 13 mal 47\n",
      "658 ist 14 mal 47\n",
      "705 ist 15 mal 47\n",
      "752 ist 16 mal 47\n",
      "799 ist 17 mal 47\n",
      "846 ist 18 mal 47\n",
      "893 ist 19 mal 47\n",
      "940 ist 20 mal 47\n",
      "987 ist 21 mal 47\n"
     ]
    }
   ],
   "source": [
    "Teiler = 47\n",
    "for n in range(1000):\n",
    "    zahl = n / float(Teiler)\n",
    "    if int(zahl)-zahl == 0:\n",
    "        print( n,\"ist\",int(zahl),\"mal\",Teiler )"
   ]
  },
  {
   "cell_type": "markdown",
   "metadata": {},
   "source": [
    "### Lösung:\n",
    "\n",
    "0 ist 0 mal 47<br>\n",
    "47 ist 1 mal 47<br>\n",
    "94 ist 2 mal 47<br>\n",
    "141 ist 3 mal 47<br>\n",
    "188 ist 4 mal 47<br>\n",
    "235 ist 5 mal 47<br>\n",
    "282 ist 6 mal 47<br>\n",
    "329 ist 7 mal 47<br>\n",
    "376 ist 8 mal 47<br>\n",
    "423 ist 9 mal 47<br>\n",
    "470 ist 10 mal 47<br>\n",
    "517 ist 11 mal 47<br>\n",
    "564 ist 12 mal 47<br>\n",
    "611 ist 13 mal 47<br>\n",
    "658 ist 14 mal 47<br>\n",
    "705 ist 15 mal 47<br>\n",
    "752 ist 16 mal 47<br>\n",
    "799 ist 17 mal 47<br>\n",
    "846 ist 18 mal 47<br>\n",
    "893 ist 19 mal 47<br>\n",
    "940 ist 20 mal 47<br>\n",
    "987 ist 21 mal 47<br>"
   ]
  }
 ],
 "metadata": {
  "kernelspec": {
   "display_name": "Python 3",
   "language": "python",
   "name": "python3"
  },
  "language_info": {
   "codemirror_mode": {
    "name": "ipython",
    "version": 3
   },
   "file_extension": ".py",
   "mimetype": "text/x-python",
   "name": "python",
   "nbconvert_exporter": "python",
   "pygments_lexer": "ipython3",
   "version": "3.7.1"
  },
  "widgets": {
   "application/vnd.jupyter.widget-state+json": {
    "state": {},
    "version_major": 1,
    "version_minor": 0
   }
  }
 },
 "nbformat": 4,
 "nbformat_minor": 2
}
