{
 "cells": [
  {
   "cell_type": "markdown",
   "metadata": {},
   "source": [
    "### Aufgabe 11:\n",
    "Löse Aufgabe 10.2 mit `if`- und `else`-Anweisungen, so dass dein Python-Skript jeweils ausgibt, welche Bedingungen erfüllt sind und an welchen ggfs. eine Erfüllung der Kriterien scheitert. Speichere das Ergebnis unter *VornameNachname*-aufgabe11.ipynb auf Laufwerk H:."
   ]
  },
  {
   "cell_type": "code",
   "execution_count": 14,
   "metadata": {},
   "outputs": [
    {
     "name": "stdout",
     "output_type": "stream",
     "text": [
      "x ist 6\n",
      "Bedingung x > 2 erfüllt.\n",
      "Bedingung x in {2; 3; 5; 7} NICHT erfüllt.\n"
     ]
    }
   ],
   "source": [
    "x=6\n",
    "print(\"x ist\",x)\n",
    "if x>=2:\n",
    "    print(\"Bedingung x > 2 erfüllt.\")\n",
    "    if x in [2, 3, 5, 7]:\n",
    "        print(\"Bedingung x in {2; 3; 5; 7} erfüllt.\")\n",
    "        if x*x in [1, 4, 9]:\n",
    "            print(\"Bedingung x² in {1; 4; 9} erfüllt.\")\n",
    "            print(\"Alle Bedingungen erfüllt!\")\n",
    "        else:\n",
    "            print(\"Bedingung x² in {1; 4; 9} NICHT erfüllt.\")\n",
    "\n",
    "    else:\n",
    "        print(\"Bedingung x in {2; 3; 5; 7} NICHT erfüllt.\")\n",
    "else:\n",
    "    print(\"Bedingung x > 2 NICHT erfüllt.\")"
   ]
  },
  {
   "cell_type": "markdown",
   "metadata": {},
   "source": [
    "### Lösung:\n",
    "\n",
    "#### Beispielausgaben:\n",
    "\n",
    "`x ist 3`<br>\n",
    "`Bedingung x > 2 erfüllt.`<br>\n",
    "`Bedingung x in {2; 3; 5; 7} erfüllt.`<br>\n",
    "`Bedingung x² in {1; 4; 9} erfüllt.`<br>\n",
    "`Alle Bedingungen erfüllt!`<br>\n",
    "<br>\n",
    "`x ist 6`<br>\n",
    "`Bedingung x > 2 erfüllt.`<br>\n",
    "`Bedingung x in {2; 3; 5; 7} NICHT erfüllt.`<br>"
   ]
  }
 ],
 "metadata": {
  "kernelspec": {
   "display_name": "Python 3",
   "language": "python",
   "name": "python3"
  },
  "language_info": {
   "codemirror_mode": {
    "name": "ipython",
    "version": 3
   },
   "file_extension": ".py",
   "mimetype": "text/x-python",
   "name": "python",
   "nbconvert_exporter": "python",
   "pygments_lexer": "ipython3",
   "version": "3.7.1"
  },
  "widgets": {
   "application/vnd.jupyter.widget-state+json": {
    "state": {},
    "version_major": 1,
    "version_minor": 0
   }
  }
 },
 "nbformat": 4,
 "nbformat_minor": 2
}
