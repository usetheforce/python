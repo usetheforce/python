{
 "cells": [
  {
   "cell_type": "markdown",
   "metadata": {},
   "source": [
    "## Befehle und Argumente\n",
    "\n",
    "Jede Programmiersprache hat ihre eigene Grammatik (engl. \"Syntax\"). In Python werden zuerst Befehle (\"mach was\") und danach die Argumente (\"damit\") in nachfolgende Klammern geschrieben. \n",
    "\n",
    "Im Prinzip sieht das dann so aus: \n",
    "`machwas(damit)`"
   ]
  },
  {
   "cell_type": "markdown",
   "metadata": {},
   "source": [
    "### Liste von Befehlen:\n",
    "\n",
    "|Befehl|Wirkung|\n",
    "|:--- |:--- |\n",
    "|`print( )`|Schreibt etwas in die Ausgabezeile| \n",
    "|`type( )`|Liefert den Datentyp zurück| \n",
    "|`len( )`|Liefert die Länge (nur bei bestimmten Datentypen)| "
   ]
  },
  {
   "cell_type": "markdown",
   "metadata": {},
   "source": [
    "### Beispiele:"
   ]
  },
  {
   "cell_type": "code",
   "execution_count": 2,
   "metadata": {},
   "outputs": [
    {
     "name": "stdout",
     "output_type": "stream",
     "text": [
      "0.222\n"
     ]
    }
   ],
   "source": [
    "print(0.222)"
   ]
  },
  {
   "cell_type": "markdown",
   "metadata": {},
   "source": [
    "Man kann Befehle auch verschachteln:"
   ]
  },
  {
   "cell_type": "code",
   "execution_count": 3,
   "metadata": {},
   "outputs": [
    {
     "name": "stdout",
     "output_type": "stream",
     "text": [
      "<class 'float'>\n"
     ]
    }
   ],
   "source": [
    "print( type(0.222) )"
   ]
  },
  {
   "cell_type": "markdown",
   "metadata": {},
   "source": [
    "### Aufgabe 4:\n",
    "Löse die folgenden Aufgaben in Python und speichere das Ergebnis unter *VornameNachname*-aufgabe5.ipynb auf Laufwerk H:.\n",
    "\n",
    "1. Finde den Datentyp der Zeichenkette *\"Hallo Welt!\"* heraus und gib ihn auf dem Bildschirm aus.\n",
    "2. Gib die Zahl der Zeichen in *\"Hallo Welt -- du bist aber schön!\"* auf dem Bildschirm aus.\n",
    "3. Finde heraus, welcher Datentyp die Zahl der Zeichen aus Teilaufgabe 2 ist und gib ihn auf dem Bildschirm aus."
   ]
  },
  {
   "cell_type": "code",
   "execution_count": null,
   "metadata": {},
   "outputs": [],
   "source": []
  },
  {
   "cell_type": "code",
   "execution_count": null,
   "metadata": {},
   "outputs": [],
   "source": []
  },
  {
   "cell_type": "code",
   "execution_count": null,
   "metadata": {},
   "outputs": [],
   "source": []
  },
  {
   "cell_type": "markdown",
   "metadata": {},
   "source": [
    "### Lösung:\n",
    "1. <class 'str'> (Zeichenkette)\n",
    "2. 33\n",
    "3. <class 'int'> (ganze Zahl)"
   ]
  },
  {
   "cell_type": "markdown",
   "metadata": {},
   "source": [
    "### Hinweis:\n",
    "\n",
    "Jupyter betreibt Python im interaktiven \"Taschenrechner\"-Modus. D. h. die letzte Zeile in der Eingabe wird automatisch mit einer Art \"unsichtbarem print-Befehl\" versehen. Deshalb funktionieren auch Eingaben wie `5` oder `type(5)` ohne dass man `print( )` benutzt. \n",
    "(Das Ergebnis sieht allerdings nicht immer genauso aus wie mit `print( )`.)"
   ]
  }
 ],
 "metadata": {
  "kernelspec": {
   "display_name": "Python 3",
   "language": "python",
   "name": "python3"
  },
  "language_info": {
   "codemirror_mode": {
    "name": "ipython",
    "version": 3
   },
   "file_extension": ".py",
   "mimetype": "text/x-python",
   "name": "python",
   "nbconvert_exporter": "python",
   "pygments_lexer": "ipython3",
   "version": "3.7.1"
  },
  "widgets": {
   "application/vnd.jupyter.widget-state+json": {
    "state": {},
    "version_major": 1,
    "version_minor": 0
   }
  }
 },
 "nbformat": 4,
 "nbformat_minor": 2
}
