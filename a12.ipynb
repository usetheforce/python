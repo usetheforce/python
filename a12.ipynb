{
 "cells": [
  {
   "cell_type": "markdown",
   "metadata": {},
   "source": [
    "## Verzweigung II\n",
    "\n",
    "Das Überprüfen, ob eine Bedinung wahr ist oder nicht, geschieht mit dem Befehl `if`. \n",
    "\n",
    "#### Beispiel:"
   ]
  },
  {
   "cell_type": "code",
   "execution_count": 8,
   "metadata": {},
   "outputs": [
    {
     "name": "stdout",
     "output_type": "stream",
     "text": [
      "Das ist wahr!\n"
     ]
    }
   ],
   "source": [
    "if 1==1:\n",
    "    print( \"Das ist wahr!\")"
   ]
  },
  {
   "cell_type": "markdown",
   "metadata": {},
   "source": [
    "Wichtig ist hier, dass alle nachfolgenden Zeilen, die eingerückt sind (am Besten mit Tabulator-Taste) ausgeführt werden, wenn die Bedingung wahr ist. Ist sie falsch, werden sie übersprungen. \n",
    "\n",
    "#### Beispiel:"
   ]
  },
  {
   "cell_type": "code",
   "execution_count": 10,
   "metadata": {},
   "outputs": [
    {
     "name": "stdout",
     "output_type": "stream",
     "text": [
      "Das nicht!\n"
     ]
    }
   ],
   "source": [
    "if 2<1:\n",
    "    print( \"Das wird übersprungen!\")\n",
    "    print( \"Das auch!\")\n",
    "    \n",
    "    print( \"Das auch!\")\n",
    "print( \"Das nicht!\")"
   ]
  },
  {
   "cell_type": "markdown",
   "metadata": {},
   "source": [
    "Will man beide Fälle behandeln, also den Fall, dass die Bedingung wahr ist, und den, dass sie falsch ist, kann man die `else` Anweisung benutzen. \n",
    "\n",
    "#### Beispiel:"
   ]
  },
  {
   "cell_type": "code",
   "execution_count": 11,
   "metadata": {},
   "outputs": [
    {
     "name": "stdout",
     "output_type": "stream",
     "text": [
      "Nein, sie ist falsch\n"
     ]
    }
   ],
   "source": [
    "if 2<1:\n",
    "    print( \"Bedingung ist wahr\")\n",
    "else:\n",
    "    print( \"Nein, sie ist falsch\")"
   ]
  },
  {
   "cell_type": "markdown",
   "metadata": {},
   "source": [
    "### Hinweis:\n",
    "\n",
    "Auch Verzweigungen kann man verschachteln. Man muss dann aber jedes Mal ein Stück weiter einrücken. \n",
    "\n",
    "Und: Doppelpunkt am Ende der Bedingung nicht vergessen! 😄\n",
    "\n",
    "#### Beispiel:"
   ]
  },
  {
   "cell_type": "code",
   "execution_count": 1,
   "metadata": {},
   "outputs": [
    {
     "name": "stdout",
     "output_type": "stream",
     "text": [
      "Das ist schon mal wahr\n",
      "Das auch\n"
     ]
    }
   ],
   "source": [
    "if 1+1==2:\n",
    "    print(\"Das ist schon mal wahr.\")\n",
    "    if 1+1>1:\n",
    "        print(\"Das auch.\")"
   ]
  },
  {
   "cell_type": "markdown",
   "metadata": {},
   "source": [
    "### Aufgabe 11:\n",
    "Löse Aufgabe 10.2 mit `if`- und `else`-Anweisungen, so dass dein Python-Skript jeweils ausgibt, welche Bedingungen erfüllt sind und an welchen ggfs. eine Erfüllung der Kriterien scheitert. Speichere das Ergebnis unter *VornameNachname*-aufgabe11.ipynb auf Laufwerk H:."
   ]
  },
  {
   "cell_type": "code",
   "execution_count": null,
   "metadata": {},
   "outputs": [],
   "source": []
  },
  {
   "cell_type": "markdown",
   "metadata": {},
   "source": [
    "### Lösung:\n",
    "\n",
    "#### Beispielausgaben:\n",
    "\n",
    "`x ist 3`<br>\n",
    "`Bedingung x > 2 erfüllt.`<br>\n",
    "`Bedingung x in {2; 3; 5; 7} erfüllt.`<br>\n",
    "`Bedingung x² in {1; 4; 9} erfüllt.`<br>\n",
    "`Alle Bedingungen erfüllt!`<br>\n",
    "<br>\n",
    "`x ist 6`<br>\n",
    "`Bedingung x > 2 erfüllt.`<br>\n",
    "`Bedingung x in {2; 3; 5; 7} NICHT erfüllt.`<br>"
   ]
  }
 ],
 "metadata": {
  "kernelspec": {
   "display_name": "Python 3",
   "language": "python",
   "name": "python3"
  },
  "language_info": {
   "codemirror_mode": {
    "name": "ipython",
    "version": 3
   },
   "file_extension": ".py",
   "mimetype": "text/x-python",
   "name": "python",
   "nbconvert_exporter": "python",
   "pygments_lexer": "ipython3",
   "version": "3.7.1"
  },
  "widgets": {
   "application/vnd.jupyter.widget-state+json": {
    "state": {},
    "version_major": 1,
    "version_minor": 0
   }
  }
 },
 "nbformat": 4,
 "nbformat_minor": 2
}
