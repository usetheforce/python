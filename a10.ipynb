{
 "cells": [
  {
   "cell_type": "markdown",
   "metadata": {},
   "source": [
    "## Noch mehr über Listen\n",
    "\n",
    "Es gibt eine Reihe von Methoden (Befehle, die mit vorgestelltem Punkt an ein Objekt angehängt werden) für Listen."
   ]
  },
  {
   "cell_type": "markdown",
   "metadata": {},
   "source": [
    "### Listen-Methoden:\n",
    "\n",
    "|Methode|Beschreibung|\n",
    "|:--- |:--- |\n",
    "|.sort()|Sortiere die Objekte alphabetisch (Text) oder der Größe nach (Zahlen)| \n",
    "|.reverse()|Kehre die Reihenfolge der Objekte um|\n",
    "|.append(obj)|Hänge Objekt obj an die Liste an|\n",
    "|.remove(obj)|Entferne Objekt obj aus der Liste<br>(Fehlermeldung, wenn obj nicht in der Liste ist)|"
   ]
  },
  {
   "cell_type": "markdown",
   "metadata": {},
   "source": [
    "### Beispiel:"
   ]
  },
  {
   "cell_type": "code",
   "execution_count": 16,
   "metadata": {},
   "outputs": [
    {
     "data": {
      "text/plain": [
       "[3, 2, 1]"
      ]
     },
     "execution_count": 16,
     "metadata": {},
     "output_type": "execute_result"
    }
   ],
   "source": [
    "liste = [1,2,3]\n",
    "liste.reverse()\n",
    "liste"
   ]
  },
  {
   "cell_type": "markdown",
   "metadata": {},
   "source": [
    "### Aufgabe 8b:\n",
    "\n",
    "Löse die folgenden Aufgaben in Python und speichere das Ergebnis unter *VornameNachname*-aufgabe08b.ipynb auf Laufwerk H:.\n",
    "\n",
    "Hier ist eine Liste an Vornamen gegegeben:\n",
    "Micha, Ursula, Katharina, Edelbert, Hugo, Rudi, Manuel, Andrea.\n",
    "\n",
    "1. Sortiere die Liste in umgekehrter alphabetischer Reihenfolge.\n",
    "2. Entferne \"Edelbert\" aus der Liste und füge \"Adelbert\" und \"Odelbert\" ein. Bring die Liste wieder in umgekehrte alphabetische Reihenfolge."
   ]
  },
  {
   "cell_type": "code",
   "execution_count": 13,
   "metadata": {},
   "outputs": [
    {
     "data": {
      "text/plain": [
       "['Ursula',\n",
       " 'Rudi',\n",
       " 'Odelbert',\n",
       " 'Micha',\n",
       " 'Manuel',\n",
       " 'Katharina',\n",
       " 'Hugo',\n",
       " 'Andrea',\n",
       " 'Adelbert']"
      ]
     },
     "execution_count": 13,
     "metadata": {},
     "output_type": "execute_result"
    }
   ],
   "source": []
  },
  {
   "cell_type": "markdown",
   "metadata": {},
   "source": [
    "## Lösung:\n",
    "\n",
    "1. `['Ursula',\n",
    " 'Rudi',\n",
    " 'Micha',\n",
    " 'Manuel',\n",
    " 'Katharina',\n",
    " 'Hugo',\n",
    " 'Edelbert',\n",
    " 'Andrea']`\n",
    "2. `['Ursula',\n",
    " 'Rudi',\n",
    " 'Odelbert',\n",
    " 'Micha',\n",
    " 'Manuel',\n",
    " 'Katharina',\n",
    " 'Hugo',\n",
    " 'Andrea',\n",
    " 'Adelbert']`"
   ]
  }
 ],
 "metadata": {
  "kernelspec": {
   "display_name": "Python 3",
   "language": "python",
   "name": "python3"
  },
  "language_info": {
   "codemirror_mode": {
    "name": "ipython",
    "version": 3
   },
   "file_extension": ".py",
   "mimetype": "text/x-python",
   "name": "python",
   "nbconvert_exporter": "python",
   "pygments_lexer": "ipython3",
   "version": "3.7.1"
  },
  "widgets": {
   "application/vnd.jupyter.widget-state+json": {
    "state": {},
    "version_major": 1,
    "version_minor": 0
   }
  }
 },
 "nbformat": 4,
 "nbformat_minor": 2
}
