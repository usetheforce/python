{
 "cells": [
  {
   "cell_type": "markdown",
   "metadata": {},
   "source": [
    "### Aufgabe 2:\n",
    "1. Speichere diese Datei auf Laufwerk H: (im File-Browser rechte Maustaste auf den Dateinamen, dann \"Download\").\n",
    "\n",
    "Verwende als Dateinamen: *VornameNachname*-aufgabe2.ipynb\n",
    "(Logischerweise schreibst du statt *VornameNachname* deinen Vornamen und Nachnamen.)\n",
    "\n",
    "2. Lade die Datei von Laufwerk H: wieder in JupyterLab."
   ]
  },
  {
   "cell_type": "markdown",
   "metadata": {},
   "source": [
    "### Lösung:"
   ]
  },
  {
   "cell_type": "markdown",
   "metadata": {},
   "source": [
    "Mein kleiner Text. Mein *schräger* Text. Mein **fetter** Text."
   ]
  },
  {
   "cell_type": "code",
   "execution_count": 1,
   "metadata": {},
   "outputs": [
    {
     "name": "stdout",
     "output_type": "stream",
     "text": [
      "Hallo Welt.\n"
     ]
    }
   ],
   "source": [
    "print (\"Hallo Welt.\")\n",
    "# Die Ausgabe des Befehls ist NICHT editierbar."
   ]
  },
  {
   "cell_type": "markdown",
   "metadata": {},
   "source": [
    "### Hinweis:\n",
    "Wenn das Ausführen nicht geht, musst du eventuell den \"Kernel\" neu starten. (Menü \"Kernel\" -> \"Restart Kernel\")\n",
    "\n",
    "Dass das nötig ist, erkennt man am Kreissymbol rechts oben  neben \"Python 3\". Ist der Kreis weiß, läuft der Kernel. Ist er schwarz, muss er neu gestartet werden."
   ]
  }
 ],
 "metadata": {
  "kernelspec": {
   "display_name": "Python 3",
   "language": "python",
   "name": "python3"
  },
  "language_info": {
   "codemirror_mode": {
    "name": "ipython",
    "version": 3
   },
   "file_extension": ".py",
   "mimetype": "text/x-python",
   "name": "python",
   "nbconvert_exporter": "python",
   "pygments_lexer": "ipython3",
   "version": "3.6.6"
  },
  "widgets": {
   "application/vnd.jupyter.widget-state+json": {
    "state": {},
    "version_major": 1,
    "version_minor": 0
   }
  }
 },
 "nbformat": 4,
 "nbformat_minor": 2
}
