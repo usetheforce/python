{
 "cells": [
  {
   "cell_type": "markdown",
   "metadata": {},
   "source": [
    "### Aufgabe 2:\n",
    "1. Speichere diese Datei auf Laufwerk H: (erst Disketten-Symbol in diesem Fenster links oben, dann im File-Browser rechte Maustaste auf den Dateinamen, \"Download\").\n",
    "\n",
    "Verwende als Dateinamen: *VornameNachname*-aufgabe2.ipynb\n",
    "(Logischerweise schreibst du statt *VornameNachname* deinen Vornamen und Nachnamen.)\n",
    "\n",
    "2. Lade die Datei von Laufwerk H: wieder in JupyterLab."
   ]
  }
 ],
 "metadata": {
  "kernelspec": {
   "display_name": "Python 3",
   "language": "python",
   "name": "python3"
  },
  "language_info": {
   "codemirror_mode": {
    "name": "ipython",
    "version": 3
   },
   "file_extension": ".py",
   "mimetype": "text/x-python",
   "name": "python",
   "nbconvert_exporter": "python",
   "pygments_lexer": "ipython3",
   "version": "3.6.6"
  },
  "widgets": {
   "application/vnd.jupyter.widget-state+json": {
    "state": {},
    "version_major": 1,
    "version_minor": 0
   }
  }
 },
 "nbformat": 4,
 "nbformat_minor": 2
}
