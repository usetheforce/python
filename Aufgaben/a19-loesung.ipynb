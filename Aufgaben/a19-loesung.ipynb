{
 "cells": [
  {
   "cell_type": "markdown",
   "metadata": {},
   "source": [
    "### Lösung:\n",
    "\n",
    "19.1 Aus welchen zwei Teilen besteht ein Datenbanksystem? Erklären Sie in je einem Satz, was das jeweils ist, und nennen Sie je ein Beispiel.\n"
   ]
  },
  {
   "cell_type": "markdown",
   "metadata": {},
   "source": [
    "- Ein Datenbanksystem besteht aus einer Datenbank (DB) und einem Datenbankmanagementsystem (DBMS). \n",
    "- Die Datenbank ist eine systematische Sammlung von Informationen, z. B. eine Lieferanten-Datei, eine Protein-DB oder ein Knochenmarksspender-Verzeichnis. \n",
    "- Das DBMS ist eine Software zum Zugriff auf eine Datenbank. Beispiele sind Informix (IBM), SQL Server, Access (beide Microsoft), MySQL, PostgeSQL, Sqlite (alle Open Source)."
   ]
  },
  {
   "cell_type": "markdown",
   "metadata": {},
   "source": [
    "19.2 Die Daten in einer Datenbank sind in Tabellen organisiert. Erklären Sie, was man in diesem Zusammenhang unter den Begriffen <i>Feldname</i> und <i>Datensatz</i> versteht und nennen Sie je ein Synonym und ein Beispiel."
   ]
  },
  {
   "cell_type": "markdown",
   "metadata": {},
   "source": [
    "- Ein Feldname ist eine Spalte oder Spaltenüberschrift (auch Attribut genannt) in einer Tabelle. Hier ist angegeben, welche Information über ein Objekt gespeichert werden soll, z. B. der Vorname, Nachname oder das Geburtsdatum einer Person.\n",
    "- Ein Datensatz ist eine Zeile in der Tabelle. Hier sind alle Attribute für ein individuelles Objekt zusammengefasst, z. B. für Sepp Meier als Vorname \"Joseph\", als Name \"Meier\" und als Geburtsdatum \"1.1.2001\"."
   ]
  },
  {
   "cell_type": "markdown",
   "metadata": {},
   "source": [
    "19.3 Erklären Sie, was ein <i>Primärschlüssel</i> ist und wieso er nicht fehlen oder mehrfach vorkommen darf."
   ]
  },
  {
   "cell_type": "markdown",
   "metadata": {},
   "source": [
    "- Ein Primärschlüssel identifiziert einen Datensatz eindeutig. Eine Identifikation ist nicht gegeben, wenn er fehlt. Und Eindeutigkeit ist nicht gegeben, wenn er mehrfach vorkommt."
   ]
  },
  {
   "cell_type": "markdown",
   "metadata": {},
   "source": [
    "19.4. Erklären Sie den Unterschied zwischen einer <i>Auswahlabfrage</i> und einer <i>Aktionsabfrage</i>. Nennen Sie ein Beispiel für eine Aktionsabfrage."
   ]
  },
  {
   "cell_type": "markdown",
   "metadata": {},
   "source": [
    "- Bei einer Auswahlabfrage wird der Inhalt einer Datenbank nicht verändert, bei einer Aktionsabfrage dagegen schon.\n",
    "- Beispiele für Aktionsabfragen sind Aktualisierungs-, Lösch-, Anfüge- oder Erstellungs-Anfragen."
   ]
  }
 ],
 "metadata": {
  "kernelspec": {
   "display_name": "Python 3",
   "language": "python",
   "name": "python3"
  },
  "language_info": {
   "codemirror_mode": {
    "name": "ipython",
    "version": 3
   },
   "file_extension": ".py",
   "mimetype": "text/x-python",
   "name": "python",
   "nbconvert_exporter": "python",
   "pygments_lexer": "ipython3",
   "version": "3.7.1"
  },
  "widgets": {
   "application/vnd.jupyter.widget-state+json": {
    "state": {},
    "version_major": 1,
    "version_minor": 0
   }
  }
 },
 "nbformat": 4,
 "nbformat_minor": 2
}
