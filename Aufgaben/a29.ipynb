{
 "cells": [
  {
   "cell_type": "markdown",
   "metadata": {},
   "source": [
    "## Kardinalitäten bei Beziehungen\n",
    "\n",
    "Buch S.\n",
    "<p>\n",
    "<img src=\"../Grafiken/werkstattMitPrimaerschluesselPfeilen.svg\">\n",
    "<p\\>\n",
    "    \n",
    "\n",
    "#### Man sieht: \n",
    "    \n",
    "Durch das Aufzeichnen nach den o. a. Regeln wird schnell klar, wie die Tabellenstruktur später aussehen soll. Es wird auch klar, dass es Sinn das Attribut \"Kunde\" in der Tabelle \"Kunde\" in \"Name\" zu ändern. Manchmal (aber meistens <u>nicht</u>) zeichnet man noch zusätzliche Pfeile von Fremd- zu den zugehörigen Primärschlüsseln ein, um darzustellen, wie die Beziehungen später in der Datenbank umgesetzt werden."
   ]
  },
  {
   "cell_type": "markdown",
   "metadata": {},
   "source": [
    "### Aufgabe 29: \n",
    "\n",
    "- Lade die Datei *werkstattMitPrimaerschluesselPfeilen.svg* im Aufgaben-Ordner in das Tool https://www.draw.io/ und entferne die dicken Pfeile von den Fremd- zu den Primärschlüsseln. Lösche das Attribut \"Adresse\" und füge zwei neue Attribute \"Strasse\" und \"Wohnort\" ein. Speichere das Ergebnis unter *VornameNachname*-aufgabe28-werkstatt.<b>svg</b> auf Laufwerk H:.\n",
    "- Erstelle mit draw.io ER-Modelle für Aufgabe 1a) und 2a) auf Seite 80 im Buch und speichere die Diagramme unter Ergebnis unter *VornameNachname*-aufgabe28-<b>1a.svg</b> bzw. *VornameNachname*-aufgabe28-<b>2a.svg</b> auf Laufwerk H:."
   ]
  }
 ],
 "metadata": {
  "kernelspec": {
   "display_name": "Python 3",
   "language": "python",
   "name": "python3"
  },
  "language_info": {
   "codemirror_mode": {
    "name": "ipython",
    "version": 3
   },
   "file_extension": ".py",
   "mimetype": "text/x-python",
   "name": "python",
   "nbconvert_exporter": "python",
   "pygments_lexer": "ipython3",
   "version": "3.7.1"
  },
  "widgets": {
   "application/vnd.jupyter.widget-state+json": {
    "state": {},
    "version_major": 1,
    "version_minor": 0
   }
  }
 },
 "nbformat": 4,
 "nbformat_minor": 2
}
