{
 "cells": [
  {
   "cell_type": "markdown",
   "metadata": {},
   "source": [
    "### Lösung Aufgabe 25: \n",
    "\n",
    "- Welche Vorteile könnte es bringen, z. B. den Wohnort der Kunden in einer eigenen Spalte zu speichern?\n"
   ]
  },
  {
   "cell_type": "markdown",
   "metadata": {},
   "source": [
    "Man kann einfach(er) herausfinden, wo die meisten Kunden wohnen, um z. B. gezielte Werbeaktionen für Kunden in einem Gebiet durchzuführen."
   ]
  },
  {
   "cell_type": "markdown",
   "metadata": {},
   "source": [
    "- Passe per Python und SQL die Tabellen in deiner Datenbank so an, dass sie der oben gezeigten Variante mit der Spalte \"gehört\" entsprechen. (Empfehlung: Tabellen löschen und neu anlegen.)\n"
   ]
  },
  {
   "cell_type": "code",
   "execution_count": 2,
   "metadata": {},
   "outputs": [
    {
     "name": "stdout",
     "output_type": "stream",
     "text": [
      "[('LA-CH123', 120001, 'Opel', 'Kapitän', 'Kurt Kasper'), ('LA-UT666', 97779, 'Opel', 'Diplomat', 'Tim Turner'), ('LA-TZ987', 28271, 'NSU', 'Prinz', 'Kurt Kasper'), ('LA-MM128', 147888, 'Saab', '9000', 'Tanja Tochter'), ('LA-UF520', 197812, 'Opel', 'Admiral', 'Kurt Kasper')]\n",
      "[('Kurt Kasper', 'An der Affenschaukel 5, Untermaulbach'), ('Tanja Tochter', 'Am Löschteich 28, Teichgraben'), ('Tim Turner', 'Unterm Bach 1, Obermaulbach')]\n"
     ]
    }
   ],
   "source": [
    "import sqlite3 \n",
    "\n",
    "datenbankverbindung = sqlite3.connect( \"autowerkstatt.db\") \n",
    "\n",
    "cursor = datenbankverbindung.cursor() \n",
    "\n",
    "cursor.execute(\"DROP TABLE IF EXISTS Auto;\") # Tabelle löschen, wenn es sie schon gibt\n",
    "cursor.execute(\"DROP TABLE IF EXISTS Kunde;\") # Tabelle löschen, wenn es sie schon gibt\n",
    "cursor.execute(\"CREATE TABLE IF NOT EXISTS Auto ( Kennzeichen TEXT PRIMARY KEY, \\\n",
    "    Kilometerstand INTEGER, Hersteller TEXT, Modell TEXT, gehört TEXT );\") \n",
    "cursor.execute(\"CREATE TABLE IF NOT EXISTS Kunde ( Name TEXT PRIMARY KEY, \\\n",
    "    Adresse TEXT );\")\n",
    "\n",
    "cursor.execute(\"INSERT INTO Auto (Kennzeichen, Kilometerstand, Hersteller, Modell, gehört) \\\n",
    "    VALUES ('LA-CH123',120001,'Opel','Kapitän','Kurt Kasper' );\")\n",
    "cursor.execute(\"INSERT INTO Auto (Kennzeichen, Kilometerstand, Hersteller, Modell, gehört) \\\n",
    "    VALUES ('LA-UT666',97779,'Opel','Diplomat','Tim Turner' );\")\n",
    "cursor.execute(\"INSERT INTO Auto (Kennzeichen, Kilometerstand, Hersteller, Modell, gehört) \\\n",
    "    VALUES ('LA-TZ987',28271,'NSU','Prinz','Kurt Kasper' );\")\n",
    "cursor.execute(\"INSERT INTO Auto (Kennzeichen, Kilometerstand, Hersteller, Modell, gehört) \\\n",
    "    VALUES ('LA-MM128',147888,'Saab','9000','Tanja Tochter' );\")\n",
    "cursor.execute(\"INSERT INTO Auto (Kennzeichen, Kilometerstand, Hersteller, Modell, gehört) \\\n",
    "    VALUES ('LA-UF520',197812,'Opel','Admiral','Kurt Kasper' );\")\n",
    "\n",
    "cursor.execute(\"INSERT INTO Kunde (Name, Adresse) \\\n",
    "    VALUES ( 'Kurt Kasper', 'An der Affenschaukel 5, Untermaulbach' );\")\n",
    "cursor.execute(\"INSERT INTO Kunde (Name, Adresse) \\\n",
    "    VALUES ( 'Tanja Tochter', 'Am Löschteich 28, Teichgraben' );\")\n",
    "cursor.execute(\"INSERT INTO Kunde (Name, Adresse) \\\n",
    "    VALUES ( 'Tim Turner', 'Unterm Bach 1, Obermaulbach' );\")\n",
    "\n",
    "datenbankverbindung.commit()\n",
    "cursor.execute(\"SELECT * FROM sqlite_master;\")\n",
    "ergebnis = cursor.fetchall() \n",
    "#print ( ergebnis )\n",
    "cursor.execute(\"SELECT * FROM Auto;\")\n",
    "ergebnis = cursor.fetchall() \n",
    "print ( ergebnis )\n",
    "cursor.execute(\"SELECT * FROM Kunde;\")\n",
    "ergebnis = cursor.fetchall() \n",
    "print ( ergebnis )\n",
    "\n",
    "datenbankverbindung.close()"
   ]
  },
  {
   "cell_type": "markdown",
   "metadata": {},
   "source": [
    "- Verändere deinen Code aus der letzten Aufgabe so, dass in der neuen Variante wieder Tanja Tochters Adresse und der Kilometerstand ihres Autos per INNER JOIN-Statement ausgegeben werden."
   ]
  },
  {
   "cell_type": "code",
   "execution_count": 4,
   "metadata": {},
   "outputs": [
    {
     "name": "stdout",
     "output_type": "stream",
     "text": [
      "[('Am Löschteich 28, Teichgraben', 147888)]\n"
     ]
    }
   ],
   "source": [
    "import sqlite3 \n",
    "\n",
    "datenbankverbindung = sqlite3.connect( \"autowerkstatt.db\") \n",
    "\n",
    "cursor = datenbankverbindung.cursor() \n",
    "\n",
    "cursor.execute(\"SELECT Kunde.Adresse, Auto.Kilometerstand \\\n",
    "    FROM Kunde, Auto WHERE Kunde.Name = Auto.gehört AND Kunde.Name = 'Tanja Tochter';\")\n",
    "ergebnis = cursor.fetchall() \n",
    "print ( ergebnis )\n",
    "\n",
    "datenbankverbindung.close()"
   ]
  }
 ],
 "metadata": {
  "kernelspec": {
   "display_name": "Python 3",
   "language": "python",
   "name": "python3"
  },
  "language_info": {
   "codemirror_mode": {
    "name": "ipython",
    "version": 3
   },
   "file_extension": ".py",
   "mimetype": "text/x-python",
   "name": "python",
   "nbconvert_exporter": "python",
   "pygments_lexer": "ipython3",
   "version": "3.7.1"
  },
  "widgets": {
   "application/vnd.jupyter.widget-state+json": {
    "state": {},
    "version_major": 1,
    "version_minor": 0
   }
  }
 },
 "nbformat": 4,
 "nbformat_minor": 2
}
