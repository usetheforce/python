{
 "cells": [
  {
   "cell_type": "markdown",
   "metadata": {},
   "source": [
    "## Verzweigungen\n",
    "\n",
    "Programme sollen nicht nur rechnen, sondern auch auf bestimmte Bedingungen unterschiedlich reagieren. Dies löst man über (bedingte) Verzweigungen.\n",
    "\n",
    "Ob eine Bedingung zutrifft oder nicht, überprüft man mit Abfragen, die einen Wahrheitswert (`True` oder `False`) zurückgeben."
   ]
  },
  {
   "cell_type": "markdown",
   "metadata": {},
   "source": [
    "### Liste der wichtigsten Bedingungen:\n",
    "\n",
    "|Bedingung|Beschreibung|möglich bei<br>Datentyp|Beispiel für<br>wahre Bedingung|\n",
    "|:--- |:--- |:--- |:--- |\n",
    "|a==b|`True` wenn a und b gleich sind|Text, Zahl|1==1| \n",
    "|a>b|`True` wenn a > b| Zahl|2>1|\n",
    "|a<b|`True` wenn a > b| Zahl|1<2|\n",
    "|a=>b|`True` wenn a = b oder a > b| Zahl|2>1|\n",
    "|a=<b|`True` wenn a = b oder a < b| Zahl|2<1|\n",
    "|a in b|`True` wenn a in b enthalten ist|Text, Liste|\"a\" in \"abc\"|\n",
    "\n",
    "#### Beispiele:"
   ]
  },
  {
   "cell_type": "code",
   "execution_count": 2,
   "metadata": {},
   "outputs": [
    {
     "data": {
      "text/plain": [
       "True"
      ]
     },
     "execution_count": 2,
     "metadata": {},
     "output_type": "execute_result"
    }
   ],
   "source": [
    "2>1"
   ]
  },
  {
   "cell_type": "code",
   "execution_count": 3,
   "metadata": {},
   "outputs": [
    {
     "data": {
      "text/plain": [
       "False"
      ]
     },
     "execution_count": 3,
     "metadata": {},
     "output_type": "execute_result"
    }
   ],
   "source": [
    "2<1"
   ]
  },
  {
   "cell_type": "markdown",
   "metadata": {},
   "source": [
    "### Schlüsselwörter zur Verknüpfung von Bedingungen:\n",
    "\n",
    "|Schlüsselwort|Beschreibung|Beispiel für<br>wahre Bedingung|\n",
    "|:--- |:--- |:--- |\n",
    "|`and`|`True` wenn beide Bedingungen wahr sind|1==1 and 2==2| \n",
    "|`or`|`True` wenn mindestens eine der Bedingungen wahr ist|1<2 or 2<1|\n",
    "|`not`|`True` wenn die nachfolgende Bedingung `False` ist|not 1>2|\n",
    "\n",
    "#### Beispiele:"
   ]
  },
  {
   "cell_type": "code",
   "execution_count": 4,
   "metadata": {},
   "outputs": [
    {
     "data": {
      "text/plain": [
       "True"
      ]
     },
     "execution_count": 4,
     "metadata": {},
     "output_type": "execute_result"
    }
   ],
   "source": [
    "2>1 and 3>1"
   ]
  },
  {
   "cell_type": "code",
   "execution_count": 5,
   "metadata": {},
   "outputs": [
    {
     "data": {
      "text/plain": [
       "False"
      ]
     },
     "execution_count": 5,
     "metadata": {},
     "output_type": "execute_result"
    }
   ],
   "source": [
    "not 2>1"
   ]
  },
  {
   "cell_type": "markdown",
   "metadata": {},
   "source": [
    "### Klammern:\n",
    "\n",
    "Bedingungen kann man auch verschachteln, nämlich mit Klammern, die funktionieren wie in der Mathematik. \n",
    "\n",
    "#### Beispiel:"
   ]
  },
  {
   "cell_type": "code",
   "execution_count": 6,
   "metadata": {},
   "outputs": [
    {
     "data": {
      "text/plain": [
       "True"
      ]
     },
     "execution_count": 6,
     "metadata": {},
     "output_type": "execute_result"
    }
   ],
   "source": [
    "( \"1\" in \"123\" ) and ( not 2*2==5 )"
   ]
  },
  {
   "cell_type": "markdown",
   "metadata": {},
   "source": [
    "### Aufgabe 11:\n",
    "Löse die folgenden Aufgaben in Python und speichere das Ergebnis unter *VornameNachname*-aufgabe11.ipynb auf Laufwerk H:.\n",
    "\n",
    "1. Finde durch <i>eine</i> Zeile Python-Code heraus, ob die Zahl 2520 sich schreiben lässt als Produkt folgender Zahlen:<br>\n",
    "· 9, 8, 7 und 5<br>\n",
    "· 6, 12 und 35<br>\n",
    "· 15, 14 und 12\n",
    "2. Finde durch Probieren mit Python-Code heraus, welche der Zahlen von 1 bis 10 folgende Bedinungen gleichzeitig erfüllen:<p>\n",
    "Die Zahl ist ...<br>\n",
    "· größer oder gleich 2<br>\n",
    "· keine Primzahl (also nicht 2, 3, 5, 7)<br>\n",
    "· eine Quadratzahl (also das Produkt mit sich selbst ist 1, 4 oder 9)<br>\n"
   ]
  },
  {
   "cell_type": "code",
   "execution_count": null,
   "metadata": {},
   "outputs": [],
   "source": []
  }
 ],
 "metadata": {
  "kernelspec": {
   "display_name": "Python 3",
   "language": "python",
   "name": "python3"
  },
  "language_info": {
   "codemirror_mode": {
    "name": "ipython",
    "version": 3
   },
   "file_extension": ".py",
   "mimetype": "text/x-python",
   "name": "python",
   "nbconvert_exporter": "python",
   "pygments_lexer": "ipython3",
   "version": "3.7.1"
  },
  "widgets": {
   "application/vnd.jupyter.widget-state+json": {
    "state": {},
    "version_major": 1,
    "version_minor": 0
   }
  }
 },
 "nbformat": 4,
 "nbformat_minor": 2
}
