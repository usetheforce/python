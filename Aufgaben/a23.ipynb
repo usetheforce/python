{
 "cells": [
  {
   "cell_type": "markdown",
   "metadata": {},
   "source": [
    "# Datenintegrität und Datenkonsistenz\n",
    "\n",
    "## Datenintegrität\n",
    "\n",
    "### Integritätsbedingungen (Wiederholung)\n",
    "\n",
    "- **Bereichs-Integrität**: sinnvolle Werte für die Datensätze\n",
    "- **Entitäts-Integrität**: Eindeutigkeit aller Datensätze in einer Tabelle ($\\rightarrow$  Primärschlüssel)\n",
    "- **Referentielle Integrität**: bei _mehreren_ Tabellen darf es untereinander keine Verweise \"ins Nirgendwo\" geben\n",
    "\n",
    "### Warum nicht nur _eine_ Tabelle? \n",
    "- **Redundanz** (mehrmaliges Speichern von gleichen Daten): <p>\n",
    "u. U. Speicherverschwendung (z. B. Bilddateien)\n",
    "- **Konsistenz** (logische Übereinstimmung der Daten):<p>\n",
    "    Inkonsistenzen z. B. durch Tippfehler möglich. (Bsp. Buch S. ... oder unten)\n",
    "\n",
    "## Datenkonsistenz\n",
    "### \"Mutations\"-Anomalien:\n",
    "Anomalien (Inkonsistenzen) können entstehen, wenn bei Aktionsabfragen (\"Mutationen\") Fehler gemacht werden. Man unterscheidet, je nachdem, wie die Anomalie entstanden ist:\n",
    "- **Änderungs-Anomalie**\n",
    "- **Einfüge-Anomalie**\n",
    "- **Lösch-Anomalie**\n",
    "\n",
    "### Beispiele \n",
    "Kunden einer Autowerkstatt und ihre Autos:\n",
    "\n",
    "    \n",
    "|Kennzeichen|Kilometerstand|Kunde|Adresse|Fabrikat|\n",
    "|:--- |:--- |:--- |:--- |:--- |\n",
    "|LA-CH123|120001|Kurt Kasper|An der Affenschaukel 5, Untermaulbach|Opel Kapitän|\n",
    "|LA-UT666|97779|Tim Turner|Unterm Bach 1, Obermaulbach|Opel Diplomat|\n",
    "|LA-TZ987|28271|Kurt Kasper|An der Affenschaukel 5, Untermaulbach|NSU Prinz|\n",
    "|LA-MM128|147888|Tanja Tochter|Am Löschteich 28, Teichgraben|Saab 9000|\n",
    "|LA-UF520|197812|Kurt Kasper|Am Löschteich 28, Teichgraben|Opel Admiral|\n",
    "\n",
    "- **Änderungs-Anomalie**: \"Kurt Kasper\" heißt eigentlich \"Knut Knusper\". Der Name muss an 3 Stellen geändert werden. Wenn dabei ein Fehler passiert, sind die Daten inkonsistent.\n",
    "- **Einfüge-Anomalie**: Herr Kasper kommt mit dem Kfz mit der Nummer \"LA-CH123\" vorbei. Der Lehrling übersieht, dass es Auto und Kunden schon gibt und legt ihn nochmal an -- nur mit anderem Kilometerstand. Oder: Frau Tochter kommt mit dem Auto ihres Vaters mit Nummer \"LA-UF520\" vorbei. Es ist nun die Frage, ob der Eintrag unter dieser Kfz-Nummer oder unter ihrem Namen erfolgen soll oder ob ein neuer Eintrag angelegt wird.\n",
    "- **Lösch-Anomalie**: Aus Datenschutzgründen sollen die personenbezogenen Daten in alten Rechnungen gelöscht werden. Man würde aber gerne die Fabrikate und Kilometerstände behalten. Das kann u. U. schwierig sein, z. B. wenn das Kennzeichen Primärschlüssel ist.\n",
    "\n",
    "\n",
    "## Aufgabe:\n",
    "    \n",
    "- Im Werkstattbeispiel hat sich auch ohne Änderung schon eine Inkonsistenz in den Datenbestand eingeschlichen. Geben Sie an, worin diese besteht."
   ]
  },
  {
   "cell_type": "markdown",
   "metadata": {},
   "source": [
    "..."
   ]
  },
  {
   "cell_type": "markdown",
   "metadata": {},
   "source": [
    "- Überlegen Sie sich für das Werkstatt-Beispiel für jede der drei Arten je selbst eine Anomalie."
   ]
  },
  {
   "cell_type": "markdown",
   "metadata": {},
   "source": [
    "..."
   ]
  },
  {
   "cell_type": "markdown",
   "metadata": {},
   "source": [
    "..."
   ]
  },
  {
   "cell_type": "markdown",
   "metadata": {},
   "source": [
    "..."
   ]
  }
 ],
 "metadata": {
  "kernelspec": {
   "display_name": "Python 3",
   "language": "python",
   "name": "python3"
  },
  "language_info": {
   "codemirror_mode": {
    "name": "ipython",
    "version": 3
   },
   "file_extension": ".py",
   "mimetype": "text/x-python",
   "name": "python",
   "nbconvert_exporter": "python",
   "pygments_lexer": "ipython3",
   "version": "3.7.1"
  },
  "widgets": {
   "application/vnd.jupyter.widget-state+json": {
    "state": {},
    "version_major": 1,
    "version_minor": 0
   }
  }
 },
 "nbformat": 4,
 "nbformat_minor": 2
}
