{
 "cells": [
  {
   "cell_type": "markdown",
   "metadata": {},
   "source": [
    "## Aktionsabfragen\n",
    "\n",
    "Lies im Buch Seite 59 durch. Mit ihrer Hilfe sollten Sie die nachfolgende Aufgaben lösen können. \n",
    "\n",
    "Es gibt vier Typen von Aktionsabfragen. Die Tabellenerstellungsabfragen sind im Buch etwas knapp dargestellt. Deshalb soll hier eine Beispielaufgabe dazu mit Lösung besprochen werden.\n",
    "\n",
    "Hilfreich sind auch folgende Tutorial-Seiten:\n",
    "\n",
    "|Aktionsabfrage|Link|\n",
    "|:--- |:--- |\n",
    "|Tabellenerstellung|http://www.sqlitetutorial.net/sqlite-create-table/| \n",
    "|Anfügeabfrage|http://www.sqlitetutorial.net/sqlite-insert/|\n",
    "|Aktualisierungsabfrage|http://www.sqlitetutorial.net/sqlite-update/|\n",
    "|Löschabfrage|http://www.sqlitetutorial.net/sqlite-delete/|\n",
    "\n",
    "### Beispielaufgabe Tabellenerstellungsabfrage:\n",
    "\n",
    "Erstellen Sie eine Datenbankdatei mit Namen <i>freunde.db</i> und legen Sie dort eine Tabelle \"Freunde\" an, die folgende Attribute enthält: Name, Telefonnummer, Wohnort. Wählen Sie für die Attribute geeignete Datentypen aus. Der Primärschlüssel soll der Name sein.\n",
    "\n",
    "#### Hinweis:\n",
    "\n",
    "Bei Aktionsabfragen muss in einem zusätzlichen Schritt das Verändern der Daten explizit freigegeben werden. Das geschieht mit der `.commit()`-Methode der Datenbankverbindung.\n",
    "\n",
    "#### Lösung:"
   ]
  },
  {
   "cell_type": "code",
   "execution_count": 20,
   "metadata": {},
   "outputs": [
    {
     "ename": "OperationalError",
     "evalue": "table Freunde already exists",
     "output_type": "error",
     "traceback": [
      "\u001b[0;31m---------------------------------------------------------------------------\u001b[0m",
      "\u001b[0;31mOperationalError\u001b[0m                          Traceback (most recent call last)",
      "\u001b[0;32m<ipython-input-20-fecd5b31b880>\u001b[0m in \u001b[0;36m<module>\u001b[0;34m\u001b[0m\n\u001b[1;32m      5\u001b[0m \u001b[0mcursor\u001b[0m \u001b[0;34m=\u001b[0m \u001b[0mdatenbankverbindung\u001b[0m\u001b[0;34m.\u001b[0m\u001b[0mcursor\u001b[0m\u001b[0;34m(\u001b[0m\u001b[0;34m)\u001b[0m\u001b[0;34m\u001b[0m\u001b[0;34m\u001b[0m\u001b[0m\n\u001b[1;32m      6\u001b[0m \u001b[0;34m\u001b[0m\u001b[0m\n\u001b[0;32m----> 7\u001b[0;31m \u001b[0mcursor\u001b[0m\u001b[0;34m.\u001b[0m\u001b[0mexecute\u001b[0m\u001b[0;34m(\u001b[0m\u001b[0;34m\"CREATE TABLE Freunde ( Name TEXT PRIMARY KEY, Telefonnummer INTEGER, Wohnort TEXT );\"\u001b[0m\u001b[0;34m)\u001b[0m\u001b[0;34m\u001b[0m\u001b[0;34m\u001b[0m\u001b[0m\n\u001b[0m\u001b[1;32m      8\u001b[0m \u001b[0;34m\u001b[0m\u001b[0m\n\u001b[1;32m      9\u001b[0m \u001b[0mdatenbankverbindung\u001b[0m\u001b[0;34m.\u001b[0m\u001b[0mcommit\u001b[0m\u001b[0;34m(\u001b[0m\u001b[0;34m)\u001b[0m\u001b[0;34m\u001b[0m\u001b[0;34m\u001b[0m\u001b[0m\n",
      "\u001b[0;31mOperationalError\u001b[0m: table Freunde already exists"
     ]
    }
   ],
   "source": [
    "import sqlite3 \n",
    "\n",
    "datenbankverbindung = sqlite3.connect( \"freunde.db\") \n",
    "\n",
    "cursor = datenbankverbindung.cursor() \n",
    "\n",
    "cursor.execute(\"CREATE TABLE Freunde ( Name TEXT PRIMARY KEY, Telefonnummer INTEGER, Wohnort TEXT );\") \n",
    "\n",
    "datenbankverbindung.commit()\n",
    "\n",
    "ergebnis = cursor.fetchall() \n",
    "print ( ergebnis )\n",
    "\n",
    "datenbankverbindung.close() "
   ]
  },
  {
   "cell_type": "markdown",
   "metadata": {},
   "source": [
    "### Hinweis:\n",
    "\n",
    "Wenn man obigen Code ein zweites Mal ausführt, gibt das die Fehlermeldung `OperationalError: table Freunde already exists` obwohl der SQL-Befehl richtig ist. Das liegt daran, dass die Tabelle \"Freunde\" schon vorhanden ist und nun überschrieben würde. Soll die Tabelle nur erstellt werden, wenn sie noch nicht vorhanden ist, kann man das SQL-Statement um `IF NOT EXISTS` erweitern:"
   ]
  },
  {
   "cell_type": "code",
   "execution_count": 2,
   "metadata": {},
   "outputs": [
    {
     "name": "stdout",
     "output_type": "stream",
     "text": [
      "[]\n"
     ]
    }
   ],
   "source": [
    "import sqlite3 \n",
    "\n",
    "datenbankverbindung = sqlite3.connect( \"freunde.db\") \n",
    "\n",
    "cursor = datenbankverbindung.cursor() \n",
    "\n",
    "cursor.execute(\"CREATE TABLE IF NOT EXISTS Freunde ( Name TEXT PRIMARY KEY, Telefonnummer INTEGER, Wohnort TEXT );\") \n",
    "\n",
    "datenbankverbindung.commit()\n",
    "\n",
    "ergebnis = cursor.fetchall() \n",
    "print ( ergebnis )\n",
    "\n",
    "datenbankverbindung.close() "
   ]
  },
  {
   "cell_type": "markdown",
   "metadata": {},
   "source": [
    "## Aufgabe 22:\n",
    "\n",
    "Speichere das Ergebnis unter *VornameNachname*-aufgabe22.ipynb auf Laufwerk H:.\n",
    "\n",
    "1. Füge in die Tabelle \"Freunde\" die Freunde \"Donald\", \"Daisy\" und \"Dagobert\" mit den Telefonnummern 117, 118 und 119 ein. Alle drei wohnen in Entenhausen. Überprüfe durch ein anschließendes `SELECT`-Statement, ob die Werte auch richtig eingetragen wurden"
   ]
  },
  {
   "cell_type": "code",
   "execution_count": 37,
   "metadata": {},
   "outputs": [
    {
     "name": "stdout",
     "output_type": "stream",
     "text": [
      "[('Donald', 117, 'Entenhausen'), ('Daisy', 118, 'Entenhausen'), ('Dagobert', 119, 'Entenhausen')]\n"
     ]
    }
   ],
   "source": [
    " "
   ]
  },
  {
   "cell_type": "markdown",
   "metadata": {},
   "source": [
    "2. Lösche \"Dagobert\" aus der \"Freunde\"-Tabelle. Überprüfe das Ergebnis durch `SELECT`."
   ]
  },
  {
   "cell_type": "code",
   "execution_count": 38,
   "metadata": {},
   "outputs": [
    {
     "name": "stdout",
     "output_type": "stream",
     "text": [
      "[('Donald', 117, 'Entenhausen'), ('Daisy', 118, 'Entenhausen')]\n"
     ]
    }
   ],
   "source": []
  },
  {
   "cell_type": "markdown",
   "metadata": {},
   "source": [
    "3. Ändern Sie den Namen von \"Donald\" in \"Phantomias\" und seine Rufnummer in 999. Überprüfen Sie das Ergebnis."
   ]
  },
  {
   "cell_type": "code",
   "execution_count": 39,
   "metadata": {},
   "outputs": [
    {
     "name": "stdout",
     "output_type": "stream",
     "text": [
      "[('Phantomias', 999, 'Entenhausen'), ('Daisy', 118, 'Entenhausen')]\n"
     ]
    }
   ],
   "source": []
  },
  {
   "cell_type": "markdown",
   "metadata": {},
   "source": [
    "### Hinweis:\n",
    "\n",
    "Sollten Sie die Tabelle in einen Zustand gebracht haben, in der sie sie zurücksetzen möchten, so können Sie sie mit dem Statement `DROP TABLE <tabelle>` komplett löschen."
   ]
  },
  {
   "cell_type": "code",
   "execution_count": 33,
   "metadata": {},
   "outputs": [
    {
     "name": "stdout",
     "output_type": "stream",
     "text": [
      "[]\n"
     ]
    }
   ],
   "source": [
    "import sqlite3 \n",
    "\n",
    "datenbankverbindung = sqlite3.connect( \"freunde.db\") \n",
    "\n",
    "cursor = datenbankverbindung.cursor() \n",
    "\n",
    "cursor.execute(\"DROP TABLE Freunde;\") \n",
    "\n",
    "datenbankverbindung.commit()\n",
    "\n",
    "ergebnis = cursor.fetchall() \n",
    "print ( ergebnis )\n",
    "\n",
    "datenbankverbindung.close() "
   ]
  },
  {
   "cell_type": "markdown",
   "metadata": {},
   "source": [
    "### Lösung:\n",
    "\n",
    "1. `[('Donald', 117, 'Entenhausen'), ('Daisy', 118, 'Entenhausen'), ('Dagobert', 119, 'Entenhausen')]`\n",
    "\n",
    "2. `[('Donald', 117, 'Entenhausen'), ('Daisy', 118, 'Entenhausen')]`\n",
    "\n",
    "3. `[('Phantomias', 999, 'Entenhausen'), ('Daisy', 118, 'Entenhausen')]`"
   ]
  }
 ],
 "metadata": {
  "kernelspec": {
   "display_name": "Python 3",
   "language": "python",
   "name": "python3"
  },
  "language_info": {
   "codemirror_mode": {
    "name": "ipython",
    "version": 3
   },
   "file_extension": ".py",
   "mimetype": "text/x-python",
   "name": "python",
   "nbconvert_exporter": "python",
   "pygments_lexer": "ipython3",
   "version": "3.7.1"
  },
  "widgets": {
   "application/vnd.jupyter.widget-state+json": {
    "state": {},
    "version_major": 1,
    "version_minor": 0
   }
  }
 },
 "nbformat": 4,
 "nbformat_minor": 2
}
