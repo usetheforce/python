{
 "cells": [
  {
   "cell_type": "markdown",
   "metadata": {},
   "source": [
    "## Lösung der Redundanz- und Konsistenz-Problematik: Mehrere Tabellen\n",
    "\n",
    "Man könnte die Tabelle aus der vorigen Aufgabe in zwei Tabellen aufspalten. Dadurch wird die Redundanz verkleinert und die Wahrscheinlichkeit für Mutationsanomalien verringert. Z. B. können jetzt Kundendaten ohne Probleme gelöscht werden und gleichzeitig die Fahrzeugdaten erhalten bleiben.\n",
    "    \n",
    "<center><b>Auto</b></center>\n",
    "    \n",
    "|Kennzeichen|Kilometerstand|Fabrikat|\n",
    "|:--- |:--- |:--- |\n",
    "|LA-CH123|120001|Opel Kapitän|\n",
    "|LA-UT666|97779|Opel Diplomat|\n",
    "|LA-TZ987|28271|NSU Prinz|\n",
    "|LA-MM128|147888|Saab 9000|\n",
    "|LA-UF520|197812|Opel Admiral|\n",
    "    \n",
    "<center><b>Kunde</b></center>\n",
    "    \n",
    "|Name|Adresse|besitzt|\n",
    "|:--- |:--- |:--- |\n",
    "|Kurt Kasper|An der Affenschaukel 5, Untermaulbach|LA-CH123, LA-TZ987, LA-UF520|\n",
    "|Tim Turner|Unterm Bach 1, Obermaulbach|LA-UT666|\n",
    "|Tanja Tochter|Am Löschteich 28, Teichgraben|LA-MM128|\n",
    "    \n",
    "Um die Einträge der Tabelle \"Kunde\" den Einträgen in \"Auto\" zuordnen zu können, braucht es ein Attribut, das diese Zuordnung leistet. Man nennt es <b>Fremdschlüssel</b>. Im Beispiel wäre das \"besitzt\".\n",
    "\n",
    "Bei einer Auswahlabfrage müssen nun Daten aus zwei Tabellen berücksichtigt werden. Die Syntax dafür ist beispielhaft nachfolgend dargestellt. Eine solche Abfrage heißt \"INNER JOIN\"."
   ]
  },
  {
   "cell_type": "code",
   "execution_count": 7,
   "metadata": {},
   "outputs": [
    {
     "name": "stdout",
     "output_type": "stream",
     "text": [
      "[('Tim Turner', 'LA-UT666', 'Opel Diplomat')]\n"
     ]
    }
   ],
   "source": [
    "import sqlite3 \n",
    "\n",
    "datenbankverbindung = sqlite3.connect( \"autowerkstatt.db\") \n",
    "\n",
    "cursor = datenbankverbindung.cursor() \n",
    "\n",
    "cursor.execute(\"SELECT Kunde.Name, Kunde.besitzt, Auto.Fabrikat \\\n",
    "    FROM Kunde, Auto WHERE Kunde.besitzt = Auto.Kennzeichen AND Kunde.Name = 'Tim Turner';\")\n",
    "ergebnis = cursor.fetchall() \n",
    "print ( ergebnis )\n",
    "\n",
    "datenbankverbindung.close()\n"
   ]
  },
  {
   "cell_type": "markdown",
   "metadata": {},
   "source": [
    "### Aufgabe 24: \n",
    "Löse die folgenden Aufgaben in Python und speichere das Ergebnis unter *VornameNachname*-aufgabe24.ipynb auf Laufwerk H:.\n",
    "\n",
    "- Erstelle eine SQLite-Datenbank \"autowerkstatt.db\" und lege dort die Tabellen \"Auto\" und \"Kunde\" an wie oben angegeben. Überprüfe das Ergebnis mit einem `\"SELECT * FROM sqlite_master;\"`-Statement.\n"
   ]
  },
  {
   "cell_type": "code",
   "execution_count": 5,
   "metadata": {},
   "outputs": [
    {
     "name": "stdout",
     "output_type": "stream",
     "text": [
      "[('table', 'Auto', 'Auto', 2, 'CREATE TABLE Auto ( Kennzeichen TEXT PRIMARY KEY,     Kilometerstand INTEGER, Fabrikat TEXT )'), ('index', 'sqlite_autoindex_Auto_1', 'Auto', 4, None), ('table', 'Kunde', 'Kunde', 5, 'CREATE TABLE Kunde ( Name TEXT PRIMARY KEY,     Adresse TEXT, besitzt TEXT )'), ('index', 'sqlite_autoindex_Kunde_1', 'Kunde', 3, None)]\n"
     ]
    }
   ],
   "source": []
  },
  {
   "cell_type": "markdown",
   "metadata": {},
   "source": [
    "- Befülle die Datenbank mit mindestens 3 Autos und mindestens \"Tim Turner\" und \"Tanja Tochter\" als Kunden. Überprüfe das Ergebnis mit einem `\"SELECT * FROM Auto;\"` bzw. `\"SELECT * FROM Kunde;\"`-Statement."
   ]
  },
  {
   "cell_type": "code",
   "execution_count": 6,
   "metadata": {},
   "outputs": [
    {
     "name": "stdout",
     "output_type": "stream",
     "text": [
      "[('LA-CH123', 120001, 'Opel Kapitän'), ('LA-UT666', 97779, 'Opel Diplomat'), ('LA-TZ987', 28271, 'NSU Prinz'), ('LA-MM128', 147888, 'Saab 9000'), ('LA-UF520', 197812, 'Opel Admiral')]\n",
      "[('Kurt Kasper', 'An der Affenschaukel 5, Untermaulbach', 'LA-CH123, LA-TZ987, LA-UF520'), ('Tanja Tochter', 'Am Löschteich 28, Teichgraben', 'LA-MM128'), ('Tim Turner', 'Unterm Bach 1, Obermaulbach', 'LA-UT666')]\n"
     ]
    }
   ],
   "source": []
  },
  {
   "cell_type": "markdown",
   "metadata": {},
   "source": [
    "- Schreibe Python-Code, der Tanja Tochters Adresse und den Kilometerstand ihres Autos per INNER JOIN-Statement ausgibt."
   ]
  },
  {
   "cell_type": "code",
   "execution_count": 43,
   "metadata": {},
   "outputs": [
    {
     "name": "stdout",
     "output_type": "stream",
     "text": [
      "[('Am Löschteich 28, Teichgraben', 147888)]\n"
     ]
    }
   ],
   "source": []
  }
 ],
 "metadata": {
  "kernelspec": {
   "display_name": "Python 3",
   "language": "python",
   "name": "python3"
  },
  "language_info": {
   "codemirror_mode": {
    "name": "ipython",
    "version": 3
   },
   "file_extension": ".py",
   "mimetype": "text/x-python",
   "name": "python",
   "nbconvert_exporter": "python",
   "pygments_lexer": "ipython3",
   "version": "3.7.1"
  },
  "widgets": {
   "application/vnd.jupyter.widget-state+json": {
    "state": {},
    "version_major": 1,
    "version_minor": 0
   }
  }
 },
 "nbformat": 4,
 "nbformat_minor": 2
}
