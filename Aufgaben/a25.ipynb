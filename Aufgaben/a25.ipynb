{
 "cells": [
  {
   "cell_type": "markdown",
   "metadata": {},
   "source": [
    "## Normalisierung\n",
    "\n",
    "Die Lösung mit den zwei Tabellen ist noch nicht perfekt. Um zu redundanzfreien und weitgehend anomalieresistenten Tabellen zu kommen, gibt es ein drei-schrittiges Verfahren: die \"Normalisierung\".\n",
    "\n",
    "### Erste Normalform\n",
    "\n",
    "<u>Eine Datenbank ist in der <b>1. Normalform</b>, wenn pro Datenfeld nur maximal ein Wert vorhanden ist.</u>\n",
    "\n",
    "Im Beispiel waren unter \"besitzt\" bei Kurt Kasper 3 Fahrzeuge gespeichert. Das darf nicht sein. Um das zu verhindern, können die Tabellen z. B. so aufgeteilt werden:\n",
    "    \n",
    "<center><b>Auto</b></center>\n",
    "    \n",
    "|<u>Kennzeichen</u>|Kilometerstand|Fabrikat|gehört|\n",
    "|:--- |:--- |:--- |:--- |\n",
    "|LA-CH123|120001|Opel Kapitän|Kurt Kasper|\n",
    "|LA-UT666|97779|Opel Diplomat|Tim Turner|\n",
    "|LA-TZ987|28271|NSU Prinz|Kurt Kasper|\n",
    "|LA-MM128|147888|Saab 9000|Tanja Tochter|\n",
    "|LA-UF520|197812|Opel Admiral|Kurt Kasper|\n",
    "    \n",
    "<center><b>Kunde</b></center>\n",
    "    \n",
    "|<u>Name</u>|Adresse|\n",
    "|:--- |:--- |\n",
    "|Kurt Kasper|An der Affenschaukel 5, Untermaulbach|\n",
    "|Tim Turner|Unterm Bach 1, Obermaulbach|\n",
    "|Tanja Tochter|Am Löschteich 28, Teichgraben|\n",
    "    \n",
    "\n",
    "### Hinweis:\n",
    "\n",
    "- Die Primärschlüssel in der Tabellenüberschrift wurden wegen besserer Lesbarkeit unterstrichen.\n",
    "- Manche sehen auch Vorname und Name, sowie Strasse und Ort als verschiedene Werte an, die nicht in einer gemeinsamen Spalte stehen sollten. Ob man hier eine Trennung durchführt oder nicht, hängt davon ab, ob die Werte auch getrennt voneinander verwendet werden oder nur immer zusammen. Im Beispiel soll angenommen werden, dass das Fabrikat nach Hersteller und Modell unterschieden werden soll.\n",
    "\n",
    "<center><b>Auto</b></center>\n",
    "    \n",
    "|<u>Kennzeichen</u>|Kilometerstand|Hersteller|Modell|gehört|\n",
    "|:--- |:--- |:--- |:--- |:--- |\n",
    "|LA-CH123|120001|Opel|Kapitän|Kurt Kasper|\n",
    "|LA-UT666|97779|Opel|Diplomat|Tim Turner|\n",
    "|LA-TZ987|28271|NSU|Prinz|Kurt Kasper|\n",
    "|LA-MM128|147888|Saab|9000|Tanja Tochter|\n",
    "|LA-UF520|197812|Opel|Admiral|Kurt Kasper|\n",
    "    \n",
    "<center><b>Kunde</b></center>\n",
    "    \n",
    "|<u>Name</u>|Adresse|\n",
    "|:--- |:--- |\n",
    "|Kurt Kasper|An der Affenschaukel 5, Untermaulbach|\n",
    "|Tim Turner|Unterm Bach 1, Obermaulbach|\n",
    "|Tanja Tochter|Am Löschteich 28, Teichgraben|\n"
   ]
  },
  {
   "cell_type": "markdown",
   "metadata": {},
   "source": [
    "### Aufgabe 25: \n",
    "Löse die folgenden Aufgaben in Python und speichere das Ergebnis unter *VornameNachname*-aufgabe25.ipynb auf Laufwerk H:.\n",
    "\n",
    "- Welche Vorteile könnte es bringen, z. B. den Wohnort der Kunden in einer eigenen Spalte zu speichern?\n"
   ]
  },
  {
   "cell_type": "markdown",
   "metadata": {},
   "source": [
    "..."
   ]
  },
  {
   "cell_type": "markdown",
   "metadata": {},
   "source": [
    "- Passe per Python und SQL die Tabellen in deiner Datenbank so an, dass sie der oben gezeigten Variante mit der Spalte \"gehört\" entsprechen. (Empfehlung: Tabellen löschen und neu anlegen.)\n"
   ]
  },
  {
   "cell_type": "code",
   "execution_count": 1,
   "metadata": {},
   "outputs": [
    {
     "name": "stdout",
     "output_type": "stream",
     "text": [
      "[('LA-CH123', 120001, 'Opel', 'Kapitän', 'Kurt Kasper'), ('LA-UT666', 97779, 'Opel', 'Diplomat', 'Tim Turner'), ('LA-TZ987', 28271, 'NSU', 'Prinz', 'Kurt Kasper'), ('LA-MM128', 147888, 'Saab', '9000', 'Tanja Tochter'), ('LA-UF520', 197812, 'Opel', 'Admiral', 'Kurt Kasper')]\n",
      "[('Kurt Kasper', 'An der Affenschaukel 5, Untermaulbach', None), ('Tanja Tochter', 'Am Löschteich 28, Teichgraben', None), ('Tim Turner', 'Unterm Bach 1, Obermaulbach', None)]\n"
     ]
    }
   ],
   "source": []
  },
  {
   "cell_type": "markdown",
   "metadata": {},
   "source": [
    "- Verändere deinen Code aus der letzten Aufgabe so, dass in der neuen Variante wieder Tanja Tochters Adresse und der Kilometerstand ihres Autos per INNER JOIN-Statement ausgegeben werden."
   ]
  },
  {
   "cell_type": "code",
   "execution_count": 4,
   "metadata": {},
   "outputs": [
    {
     "name": "stdout",
     "output_type": "stream",
     "text": [
      "[('Am Löschteich 28, Teichgraben', 97779)]\n"
     ]
    }
   ],
   "source": []
  }
 ],
 "metadata": {
  "kernelspec": {
   "display_name": "Python 3",
   "language": "python",
   "name": "python3"
  },
  "language_info": {
   "codemirror_mode": {
    "name": "ipython",
    "version": 3
   },
   "file_extension": ".py",
   "mimetype": "text/x-python",
   "name": "python",
   "nbconvert_exporter": "python",
   "pygments_lexer": "ipython3",
   "version": "3.7.1"
  },
  "widgets": {
   "application/vnd.jupyter.widget-state+json": {
    "state": {},
    "version_major": 1,
    "version_minor": 0
   }
  }
 },
 "nbformat": 4,
 "nbformat_minor": 2
}
