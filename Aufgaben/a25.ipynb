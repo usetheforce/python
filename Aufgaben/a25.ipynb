{
 "cells": [
  {
   "cell_type": "markdown",
   "metadata": {},
   "source": [
    "## ...\n",
    "    \n",
    "<center><b>Auto</b></center>\n",
    "    \n",
    "|Kennzeichen|Kilometerstand|Fabrikat|\n",
    "|:--- |:--- |:--- |\n",
    "|LA-CH123|120001|Opel Kapitän|\n",
    "|LA-UT666|97779|Opel Diplomat|\n",
    "|LA-TZ987|28271|NSU Prinz|\n",
    "|LA-MM128|147888|Saab 9000|\n",
    "|LA-UF520|197812|Trabant Sport|\n",
    "    \n",
    "<center><b>Kunde</b></center>\n",
    "    \n",
    "|Name|Adresse|besitzt|\n",
    "|:--- |:--- |:--- |\n",
    "|Kurt Kasper|An der Affenschaukel 5, Untermaulbach|LA-CH123, LA-TZ987, LA-UF520|\n",
    "|Tim Turner|Unterm Bach 1, Obermaulbach|LA-UT666|\n",
    "|Tanja Tochter|Am Löschteich 28, Teichgraben|LA-MM128|\n",
    "    \n",
    "Um die Einträge der Tabelle \"Auto\" den Einträgen in \"Kunde\" zuordnen zu können, braucht es ein Attribut, das diese Zuordnung leistet. Man nennt es <b>Fremdschlüssel</b>. Im Beispiel wäre das \"besitzt\"."
   ]
  },
  {
   "cell_type": "markdown",
   "metadata": {},
   "source": [
    "    \n",
    "<center><b>Auto</b></center>\n",
    "    \n",
    "|Kennzeichen|Kilometerstand|Kundennummer|Fabrikat|\n",
    "|:--- |:--- |:--- |:--- |\n",
    "|LA-CH123|120001|47|Opel Kapitän|\n",
    "|LA-UT666|97779|111|Opel Diplomat|\n",
    "|LA-TZ987|28271|47|NSU Prinz|\n",
    "|LA-MM128|147888|227|Saab 9000|\n",
    "|LA-UF520|197812|47|Trabant Sport|\n",
    "    \n",
    "<center><b>Kunde</b></center>\n",
    "    \n",
    "|Kunde|Adresse|Kundennummer|\n",
    "|:--- |:--- |:--- |\n",
    "|Kurt Kasper|An der Affenschaukel 5, Untermaulbach|47|\n",
    "|Tim Turner|Unterm Bach 1, Obermaulbach|111|\n",
    "|Tanja Tochter|Am Löschteich 28, Teichgraben|227|Saab 9000|\n",
    "\n",
    "\n",
    "\n",
    "|Kennzeichen|Kilometerstand|Kunde|Adresse|Kundennummer|Fabrikat|\n",
    "|:--- |:--- |:--- |:--- |:--- |:--- |\n",
    "|LA-CH123|120001|Kurt Kasper|An der Affenschaukel 5, Untermaulbach|47|Opel Kapitän|\n",
    "|LA-UT666|97779|Tim Turner|Unterm Bach 1, Obermaulbach|111|Opel Diplomat|\n",
    "|LA-TZ987|28271|Kurt Kasper|An der Affenschaukel 5, Untermaulbach|47|NSU Prinz|\n",
    "|LA-MM128|147888|Tanja Tochter|Am Löschteich 28, Teichgraben|227|Saab 9000|\n",
    "|LA-UF520|197812|Kurt Kasper|Am Löschteich 28, Teichgraben|47|Trabant Sport|"
   ]
  }
 ],
 "metadata": {
  "kernelspec": {
   "display_name": "Python 3",
   "language": "python",
   "name": "python3"
  },
  "language_info": {
   "codemirror_mode": {
    "name": "ipython",
    "version": 3
   },
   "file_extension": ".py",
   "mimetype": "text/x-python",
   "name": "python",
   "nbconvert_exporter": "python",
   "pygments_lexer": "ipython3",
   "version": "3.7.1"
  },
  "widgets": {
   "application/vnd.jupyter.widget-state+json": {
    "state": {},
    "version_major": 1,
    "version_minor": 0
   }
  }
 },
 "nbformat": 4,
 "nbformat_minor": 2
}
