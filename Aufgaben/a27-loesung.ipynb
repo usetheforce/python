{
 "cells": [
  {
   "cell_type": "markdown",
   "metadata": {},
   "source": [
    "### Lösung Aufgabe 27: \n",
    "Löse die folgenden Aufgaben in Python und speichere das Ergebnis unter *VornameNachname*-aufgabe27.ipynb auf Laufwerk H:.\n",
    "\n",
    "- Passe per Python und SQL die Tabellen in deiner Datenbank so an, dass sie der oben gezeigten dritten Normalform entsprechen. (Empfehlung: Tabellen löschen und neu anlegen.)"
   ]
  },
  {
   "cell_type": "code",
   "execution_count": 14,
   "metadata": {},
   "outputs": [
    {
     "name": "stdout",
     "output_type": "stream",
     "text": [
      "[('LA-CH123', 120001, 'Kapitän', 47), ('LA-UT666', 97779, 'Diplomat', 111), ('LA-TZ987', 28271, 'Prinz', 47), ('LA-MM128', 147888, '9000', 227), ('LA-UF520', 197812, 'Admiral', 47)]\n",
      "[('Kurt Kasper', 'An der Affenschaukel 5, Untermaulbach', '47'), ('Tanja Tochter', 'Am Löschteich 28, Teichgraben', '227'), ('Tim Turner', 'Unterm Bach 1, Obermaulbach', '111'), ('Kurt Kasper', 'Heißt-genau-so-wie 47, Machtabernix', '2001')]\n",
      "[('Kapitän', 'Opel'), ('Diplomat', 'Opel'), ('Prinz', 'NSU'), ('9000', 'Saab'), ('Admiral', 'Opel')]\n"
     ]
    }
   ],
   "source": [
    "import sqlite3 \n",
    "\n",
    "datenbankverbindung = sqlite3.connect( \"autowerkstatt.db\") \n",
    "\n",
    "cursor = datenbankverbindung.cursor() \n",
    "\n",
    "cursor.execute(\"DROP TABLE IF EXISTS Auto;\") # Tabelle löschen, wenn es sie schon gibt\n",
    "cursor.execute(\"DROP TABLE IF EXISTS Kunde;\") # Tabelle löschen, wenn es sie schon gibt\n",
    "cursor.execute(\"DROP TABLE IF EXISTS hergestellt_von;\") # Tabelle löschen, wenn es sie schon gibt\n",
    "cursor.execute(\"CREATE TABLE IF NOT EXISTS Auto ( Kennzeichen TEXT PRIMARY KEY, \\\n",
    "    Kilometerstand INTEGER, Modell TEXT, Kundennummer INTEGER );\") \n",
    "cursor.execute(\"CREATE TABLE IF NOT EXISTS Kunde ( Name TEXT, \\\n",
    "    Adresse TEXT, Kundennummer TEXT  PRIMARY KEY);\")\n",
    "cursor.execute(\"CREATE TABLE IF NOT EXISTS hergestellt_von ( Modell TEXT PRIMARY KEY, \\\n",
    "    Hersteller TEXT);\")\n",
    "\n",
    "cursor.execute(\"INSERT INTO Auto (Kennzeichen, Kilometerstand, Modell, Kundennummer) \\\n",
    "    VALUES ('LA-CH123',120001,'Kapitän',47 );\")\n",
    "cursor.execute(\"INSERT INTO Auto (Kennzeichen, Kilometerstand, Modell, Kundennummer) \\\n",
    "    VALUES ('LA-UT666',97779,'Diplomat',111 );\")\n",
    "cursor.execute(\"INSERT INTO Auto (Kennzeichen, Kilometerstand, Modell, Kundennummer) \\\n",
    "    VALUES ('LA-TZ987',28271,'Prinz',47 );\")\n",
    "cursor.execute(\"INSERT INTO Auto (Kennzeichen, Kilometerstand, Modell, Kundennummer) \\\n",
    "    VALUES ('LA-MM128',147888,'9000',227);\")\n",
    "cursor.execute(\"INSERT INTO Auto (Kennzeichen, Kilometerstand, Modell, Kundennummer) \\\n",
    "    VALUES ('LA-UF520',197812,'Admiral',47 );\")\n",
    "\n",
    "cursor.execute(\"INSERT INTO Kunde (Name, Adresse, Kundennummer) \\\n",
    "    VALUES ( 'Kurt Kasper', 'An der Affenschaukel 5, Untermaulbach', 47 );\")\n",
    "cursor.execute(\"INSERT INTO Kunde (Name, Adresse, Kundennummer) \\\n",
    "    VALUES ( 'Tanja Tochter', 'Am Löschteich 28, Teichgraben', 227 );\")\n",
    "cursor.execute(\"INSERT INTO Kunde (Name, Adresse, Kundennummer) \\\n",
    "    VALUES ( 'Tim Turner', 'Unterm Bach 1, Obermaulbach', 111 );\")\n",
    "cursor.execute(\"INSERT INTO Kunde (Name, Adresse, Kundennummer) \\\n",
    "    VALUES ( 'Kurt Kasper', 'Heißt-genau-so-wie 47, Machtabernix', 2001 );\")\n",
    "\n",
    "cursor.execute(\"INSERT INTO hergestellt_von (Modell, Hersteller) \\\n",
    "    VALUES ( 'Kapitän', 'Opel' );\")\n",
    "cursor.execute(\"INSERT INTO hergestellt_von (Modell, Hersteller) \\\n",
    "    VALUES ( 'Diplomat', 'Opel' );\")\n",
    "cursor.execute(\"INSERT INTO hergestellt_von (Modell, Hersteller) \\\n",
    "    VALUES ( 'Prinz', 'NSU' );\")\n",
    "cursor.execute(\"INSERT INTO hergestellt_von (Modell, Hersteller) \\\n",
    "    VALUES ( '9000', 'Saab' );\")\n",
    "cursor.execute(\"INSERT INTO hergestellt_von (Modell, Hersteller) \\\n",
    "    VALUES ( 'Admiral', 'Opel' );\")\n",
    "\n",
    "datenbankverbindung.commit()\n",
    "cursor.execute(\"SELECT * FROM sqlite_master;\")\n",
    "ergebnis = cursor.fetchall() \n",
    "#print ( ergebnis )\n",
    "cursor.execute(\"SELECT * FROM Auto;\")\n",
    "ergebnis = cursor.fetchall() \n",
    "print ( ergebnis )\n",
    "cursor.execute(\"SELECT * FROM Kunde;\")\n",
    "ergebnis = cursor.fetchall() \n",
    "print ( ergebnis )\n",
    "cursor.execute(\"SELECT * FROM hergestellt_von;\")\n",
    "ergebnis = cursor.fetchall() \n",
    "print ( ergebnis )\n",
    "\n",
    "datenbankverbindung.close()"
   ]
  },
  {
   "cell_type": "markdown",
   "metadata": {},
   "source": [
    "- Verändere deinen Code aus der letzten Aufgabe so, dass in der neuen Variante Tanja Tochters Adresse und Modell und Hersteller ihres Autos per INNER JOIN-Statement ausgegeben werden."
   ]
  },
  {
   "cell_type": "code",
   "execution_count": 15,
   "metadata": {},
   "outputs": [
    {
     "name": "stdout",
     "output_type": "stream",
     "text": [
      "[('Am Löschteich 28, Teichgraben', '9000', 'Saab')]\n"
     ]
    }
   ],
   "source": [
    "import sqlite3 \n",
    "\n",
    "datenbankverbindung = sqlite3.connect( \"autowerkstatt.db\") \n",
    "\n",
    "cursor = datenbankverbindung.cursor() \n",
    "\n",
    "cursor.execute(\"SELECT Kunde.Adresse, Auto.Modell, hergestellt_von.Hersteller \\\n",
    "    FROM Kunde, Auto, hergestellt_von \\\n",
    "    WHERE Kunde.Kundennummer = Auto.Kundennummer AND Kunde.Name = 'Tanja Tochter' \\\n",
    "    AND Auto.Modell = hergestellt_von.Modell;\")\n",
    "ergebnis = cursor.fetchall() \n",
    "print ( ergebnis )\n",
    "\n",
    "datenbankverbindung.close()"
   ]
  },
  {
   "cell_type": "markdown",
   "metadata": {},
   "source": [
    "### Zusatzaufgabe:\n",
    "\n",
    "- Die Adresse soll in \"Strasse\" und \"Ort\" aufgespalten werden. Schreibe auf, wie die Tabellen aussehen müssten, damit sie allen drei Normalformen entsprechen. Passe in einem zweiten Schritt per Python und SQL die Tabellen in deiner Datenbank entsprechend an.  (Empfehlung: Tabellen löschen und neu anlegen.)"
   ]
  },
  {
   "cell_type": "markdown",
   "metadata": {},
   "source": [
    "<center><b>Auto</b></center>\n",
    "    \n",
    "|<u>Kennzeichen</u>|Kilometerstand|Modell|Kundennummer|\n",
    "|:--- |:--- |:--- |:--- |\n",
    "|LA-CH123|120001|Kapitän|47|\n",
    "|LA-UT666|97779|Diplomat|111|\n",
    "|LA-TZ987|28271|Prinz|47|\n",
    "|LA-MM128|147888|9000|227|\n",
    "|LA-UF520|197812|Sport|47|\n",
    "\n",
    "<center><b>Herstellungsland</b></center>\n",
    "    \n",
    "|<u>Hersteller</u>|Herstellungsland|\n",
    "|:--- |:--- |\n",
    "|Opel|BRD|\n",
    "|NSU|BRD|\n",
    "|Saab|Schweden|\n",
    "|Trabant|DDR|\n",
    "\n",
    "<center><b>Hersteller</b></center>\n",
    "    \n",
    "|<u>Modell</u>|Hersteller|\n",
    "|:--- |:--- |\n",
    "|Kapitän|Opel|\n",
    "|Diplomat|Opel|\n",
    "|Prinz|NSU|\n",
    "|9000|Saab|\n",
    "|Sport|Trabant|\n",
    "    \n",
    "<center><b>Kunde</b></center>\n",
    "    \n",
    "|Kunde|Adresse|<u>Kundennummer</u>|\n",
    "|:--- |:--- |:--- |\n",
    "|Kurt Kasper|An der Affenschaukel 5, Untermaulbach|47|\n",
    "|Tim Turner|Unterm Bach 1, Obermaulbach|111|\n",
    "|Tanja Tochter|Am Löschteich 28, Teichgraben|227|Saab 9000|\n"
   ]
  },
  {
   "cell_type": "code",
   "execution_count": null,
   "metadata": {},
   "outputs": [],
   "source": []
  },
  {
   "cell_type": "markdown",
   "metadata": {},
   "source": [
    "- Verändere deinen Code aus der letzten Aufgabe so, dass Tanja Tochters Adress und alle Daten zu ihrem Auto per INNER JOIN-Statement ausgegeben werden."
   ]
  },
  {
   "cell_type": "code",
   "execution_count": null,
   "metadata": {},
   "outputs": [],
   "source": []
  }
 ],
 "metadata": {
  "kernelspec": {
   "display_name": "Python 3",
   "language": "python",
   "name": "python3"
  },
  "language_info": {
   "codemirror_mode": {
    "name": "ipython",
    "version": 3
   },
   "file_extension": ".py",
   "mimetype": "text/x-python",
   "name": "python",
   "nbconvert_exporter": "python",
   "pygments_lexer": "ipython3",
   "version": "3.7.1"
  },
  "widgets": {
   "application/vnd.jupyter.widget-state+json": {
    "state": {},
    "version_major": 1,
    "version_minor": 0
   }
  }
 },
 "nbformat": 4,
 "nbformat_minor": 2
}
