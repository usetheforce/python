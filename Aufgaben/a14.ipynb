{
 "cells": [
  {
   "cell_type": "markdown",
   "metadata": {},
   "source": [
    "## Mehr über den Datentyp \"Text\"\n",
    "\n",
    "Der \"**eckige-Klammer-Operator**\" funktioniert bei Text genauso wie bei Listen. Man kann damit also Teile eines Textes erhalten.\n",
    "\n",
    "#### Beispiel:"
   ]
  },
  {
   "cell_type": "code",
   "execution_count": 4,
   "metadata": {},
   "outputs": [
    {
     "data": {
      "text/plain": [
       "'irsch'"
      ]
     },
     "execution_count": 4,
     "metadata": {},
     "output_type": "execute_result"
    }
   ],
   "source": [
    "text = \"Springt der Hirsch über'n Boch.\"\n",
    "text[13:18]"
   ]
  },
  {
   "cell_type": "markdown",
   "metadata": {},
   "source": [
    "Daneben gibt es noch zwei interessante Methoden: `.replace()` und `.split()`.\n",
    "\n",
    "`.replace()` ersetzt ein Zeichen im Text durch ein anderes.\n",
    "\n",
    "#### Beispiel:"
   ]
  },
  {
   "cell_type": "code",
   "execution_count": 5,
   "metadata": {},
   "outputs": [
    {
     "data": {
      "text/plain": [
       "\"Ich mag käinä ä's!\""
      ]
     },
     "execution_count": 5,
     "metadata": {},
     "output_type": "execute_result"
    }
   ],
   "source": [
    "text = \"Ich mag keine e's!\"\n",
    "text.replace(\"e\",\"ä\")"
   ]
  },
  {
   "cell_type": "markdown",
   "metadata": {},
   "source": [
    "`.split()` teilt einen String an einem bestimmten Zeichen (oder einer Zeichenfolge) und erstellt aus den so entstandenen Teilen eine Liste.\n",
    "\n",
    "#### Beispiel:"
   ]
  },
  {
   "cell_type": "code",
   "execution_count": 6,
   "metadata": {},
   "outputs": [
    {
     "data": {
      "text/plain": [
       "['Es war keine Riefe oder D', ', es war eine Sollbruchst', '.']"
      ]
     },
     "execution_count": 6,
     "metadata": {},
     "output_type": "execute_result"
    }
   ],
   "source": [
    "text = \"Es war keine Riefe oder Delle, es war eine Sollbruchstelle.\"\n",
    "text.split(\"elle\")"
   ]
  },
  {
   "cell_type": "markdown",
   "metadata": {},
   "source": [
    "Daneben sind auch die mathematischen Operatoren \"**+**\" (plus) und \"__*__\" (mal) für Strings definiert.\n",
    "\n",
    "#### Beispiel:"
   ]
  },
  {
   "cell_type": "code",
   "execution_count": 13,
   "metadata": {},
   "outputs": [
    {
     "name": "stdout",
     "output_type": "stream",
     "text": [
      "!abcabcabc!\n"
     ]
    }
   ],
   "source": [
    "text = \"abc\"\n",
    "text2 = \"!\" + text*3 + \"!\"\n",
    "print( text2 )"
   ]
  },
  {
   "cell_type": "markdown",
   "metadata": {},
   "source": [
    "## Aufgabe 14:\n",
    "\n",
    "TODO"
   ]
  }
 ],
 "metadata": {
  "kernelspec": {
   "display_name": "Python 3",
   "language": "python",
   "name": "python3"
  },
  "language_info": {
   "codemirror_mode": {
    "name": "ipython",
    "version": 3
   },
   "file_extension": ".py",
   "mimetype": "text/x-python",
   "name": "python",
   "nbconvert_exporter": "python",
   "pygments_lexer": "ipython3",
   "version": "3.7.1"
  },
  "widgets": {
   "application/vnd.jupyter.widget-state+json": {
    "state": {},
    "version_major": 1,
    "version_minor": 0
   }
  }
 },
 "nbformat": 4,
 "nbformat_minor": 2
}
