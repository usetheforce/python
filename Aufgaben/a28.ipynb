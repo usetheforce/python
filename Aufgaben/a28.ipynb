{
 "cells": [
  {
   "cell_type": "markdown",
   "metadata": {},
   "source": [
    "## Entity-Relationship-Modell\n",
    "\n",
    "Die Tabellen zum Werkstatt-Beispiel sind etwas unübersichtlich geworden. Für komplexere Beispiele entwirft man für Datenbanktabellen deshalb erst ein graphisches Modell. Ein solches Entity-Relationship-Modell besteht aus drei verschiedenen Elementen (siehe auch Buch S. 76 bis 78):\n",
    "\n",
    "- Entitäten (Entities)\n",
    "- Beziehungen zwischen den Entitäten (Relationships)\n",
    "- Attribute der Entitäten\n",
    "\n",
    "### Entitäten\n",
    "    \n",
    "Sie entsprechen Objekten in der Realität, z. B. Kunde mit Nummer 2001 oder Auto mit Kennzeichen LA-UF520. Der Entitäts<i>typ</i> (Kunde oder Auto) wird im Modell mit einem Rechteck dargestellt.\n",
    "\n",
    "### Beziehungen zwischen den Entitäten\n",
    "\n",
    "Sie geben an, in welchem Zusammenhang Entitäten eines Typs mit anderen Entitätstypen stehen. Z. B. besitzt ein Kunde ein Auto oder ein Auto wird von einem Hersteller hergestellt. Beziehungen werden durch Rauten dargestellt.\n",
    "\n",
    "### Attribute\n",
    "\n",
    "Das sind die Eigenschaften, die eine Entität haben kann. Die Attributtypen für ein Auto sind z. B. Kilometerstand oder Kennzeichen. Sie werden durch Ovale dargestellt.\n",
    "\n",
    "<img src=\"../Grafiken/entitaetBeziehungAttribut.svg\">\n",
    "   \n",
    "### Verbindungen\n",
    "\n",
    "Sie geben den Zusammenhang an. \n",
    "- Attribute hängen immer von genau einer Entität ab. \n",
    "- Zwei Entitäten sind durch eine Beziehung (Relationship) verbunden.\n",
    "\n",
    "Das ER-Modell des Werkstattbeispiels sieht dann so aus:\n",
    "<p>\n",
    "<img src=\"../Grafiken/werkstattMitPrimaerschluesselPfeilen.svg\">\n",
    "<p\\>\n",
    "    \n",
    "\n",
    "#### Man sieht: \n",
    "    \n",
    "Durch das Aufzeichnen nach den o. a. Regeln wird schnell klar, wie die Tabellenstruktur später aussehen soll. Es wird auch klar, dass es Sinn das Attribut \"Kunde\" in der Tabelle \"Kunde\" in \"Name\" zu ändern. Manchmal (aber meistens <u>nicht</u>) zeichnet man noch zusätzliche Pfeile von Fremd- zu den zugehörigen Primärschlüsseln ein, um darzustellen, wie die Beziehungen später in der Datenbank umgesetzt werden."
   ]
  },
  {
   "cell_type": "markdown",
   "metadata": {},
   "source": [
    "### Aufgabe 28: \n",
    "\n",
    "- Lade die Datei *werkstattMitPrimaerschluesselPfeilen.svg* im Aufgaben-Ordner in das Tool https://www.draw.io/ und entferne die dicken Pfeile von den Fremd- zu den Primärschlüsseln. Lösche das Attribut \"Adresse\" und füge zwei neue Attribute \"Strasse\" und \"Wohnort\" ein. Speichere das Ergebnis unter *VornameNachname*-aufgabe28-werkstatt.<b>svg</b> auf Laufwerk H:.\n",
    "- Erstelle mit draw.io ER-Modelle für Aufgabe 1a) und 2a) auf Seite 80 im Buch und speichere die Diagramme unter Ergebnis unter *VornameNachname*-aufgabe28-1.<b>svg</b> *VornameNachname*-aufgabe28-2.<b>svg</b> auf Laufwerk H:."
   ]
  }
 ],
 "metadata": {
  "kernelspec": {
   "display_name": "Python 3",
   "language": "python",
   "name": "python3"
  },
  "language_info": {
   "codemirror_mode": {
    "name": "ipython",
    "version": 3
   },
   "file_extension": ".py",
   "mimetype": "text/x-python",
   "name": "python",
   "nbconvert_exporter": "python",
   "pygments_lexer": "ipython3",
   "version": "3.7.1"
  },
  "widgets": {
   "application/vnd.jupyter.widget-state+json": {
    "state": {},
    "version_major": 1,
    "version_minor": 0
   }
  }
 },
 "nbformat": 4,
 "nbformat_minor": 2
}
