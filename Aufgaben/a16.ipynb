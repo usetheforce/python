{
 "cells": [
  {
   "cell_type": "markdown",
   "metadata": {},
   "source": [
    "## Arbeiten mit Dateien\n",
    "\n",
    "Der Umgang mit Dateien ist in Python relativ einfach und umfasst normalerweise 3 Schritte:\n",
    "\n",
    "1. Datei öffnen.\n",
    "2. Datei lesen oder schreiben.\n",
    "3. Datei schließen.\n",
    "\n",
    "#### Beispiel 1:"
   ]
  },
  {
   "cell_type": "code",
   "execution_count": 3,
   "metadata": {},
   "outputs": [],
   "source": [
    "text = \"Dieser Text soll in eine Datei.\"\n",
    "\n",
    "datei = open(\"meineKleineDatei.txt\",\"w\") # 1.\n",
    "# Das \"w\" in der vorigen Zeile steht für \"write\" oder \"Schreiben\".\n",
    "datei.write(text) # 2.\n",
    "datei.close() # 3."
   ]
  },
  {
   "cell_type": "markdown",
   "metadata": {},
   "source": [
    "#### Beispiel 2:"
   ]
  },
  {
   "cell_type": "code",
   "execution_count": 5,
   "metadata": {},
   "outputs": [
    {
     "name": "stdout",
     "output_type": "stream",
     "text": [
      "Dieser Text soll in eine Datei.\n"
     ]
    }
   ],
   "source": [
    "datei = open(\"meineKleineDatei.txt\") # 1.\n",
    "# Wird kein \"w\" angegeben, so soll gelesen werden.\n",
    "text = datei.read() # 2.\n",
    "datei.close() # 3.\n",
    "\n",
    "print( text )"
   ]
  },
  {
   "cell_type": "markdown",
   "metadata": {},
   "source": [
    "## Aufgabe 16\n",
    "\n",
    "TODO"
   ]
  }
 ],
 "metadata": {
  "kernelspec": {
   "display_name": "Python 3",
   "language": "python",
   "name": "python3"
  },
  "language_info": {
   "codemirror_mode": {
    "name": "ipython",
    "version": 3
   },
   "file_extension": ".py",
   "mimetype": "text/x-python",
   "name": "python",
   "nbconvert_exporter": "python",
   "pygments_lexer": "ipython3",
   "version": "3.7.1"
  },
  "widgets": {
   "application/vnd.jupyter.widget-state+json": {
    "state": {},
    "version_major": 1,
    "version_minor": 0
   }
  }
 },
 "nbformat": 4,
 "nbformat_minor": 2
}
