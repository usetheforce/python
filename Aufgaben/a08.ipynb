{
 "cells": [
  {
   "cell_type": "markdown",
   "metadata": {},
   "source": [
    "## Mehr über Listen\n",
    "\n",
    "Wir haben gesehen, dass man eine Liste z. B. mit `liste = [\"a\",\"b\",\"c\",\"d\"]` anlegen kann. \n",
    "Aber wie kann man nur bestimmte Teile davon ausgeben lassen?"
   ]
  },
  {
   "cell_type": "markdown",
   "metadata": {},
   "source": [
    "### Der \"eckige-Klammern\"-Operator bei Listen:\n",
    "\n",
    "|Operator|Beschreibung|Ausgabe im Beispiel|\n",
    "|:--- |:--- |:--- |\n",
    "|liste[2]|Objekt an der 3. Stelle<br> <i><u>Achtung</u>: man fängt beim Index bei \"0\" zu zählen an.</i>|`\"c\"`| \n",
    "|liste[1:3]|Teilliste vom 2. bis zum 3. Objekt<br><i><u>Nicht</u> zum 4.!</i>|`[\"b\",\"c\"]`|\n",
    "|liste[-2]|2. Objekt von hinten<br><i>Hier wird wieder \"richtig\" gezählt.</i>|`\"c\"`|"
   ]
  },
  {
   "cell_type": "markdown",
   "metadata": {},
   "source": [
    "### Hinweis:\n",
    "\n",
    "Man kann mit z. B. `liste[2]` nicht nur etwas ausgeben lassen, sondern dem Objekt an dieser Stelle auch einen Wert zuweisen. Z. B.:"
   ]
  },
  {
   "cell_type": "code",
   "execution_count": 21,
   "metadata": {},
   "outputs": [
    {
     "data": {
      "text/plain": [
       "['a', 'b', 12, 'd']"
      ]
     },
     "execution_count": 21,
     "metadata": {},
     "output_type": "execute_result"
    }
   ],
   "source": [
    "liste = [\"a\",\"b\",\"c\",\"d\"]\n",
    "liste[2] = 12\n",
    "liste"
   ]
  },
  {
   "cell_type": "markdown",
   "metadata": {},
   "source": [
    "### Aufgabe 8:\n",
    "\n",
    "Löse die folgenden Aufgaben in Python und speichere das Ergebnis unter *VornameNachname*-aufgabe8.ipynb auf Laufwerk H:.\n",
    "\n",
    "Hier ist eine Liste an Vornamen gegegeben:\n",
    "Micha, Ursula, Katharina, Edelbert, Hugo, Rudi, Manuel, Andrea.\n",
    "\n",
    "1. Gib eine Teilliste aus, die vom viertletzten bis zum zweitletzten Namen geht.\n",
    "2. Gib eine Teilliste aus, die vom 3. bis zum zweitletzten Namen geht.\n",
    "3. Benenne \"Edelbert\" mit einem Python-Ausdruck in \"Adelbert\" um."
   ]
  },
  {
   "cell_type": "code",
   "execution_count": null,
   "metadata": {},
   "outputs": [],
   "source": []
  },
  {
   "cell_type": "markdown",
   "metadata": {},
   "source": [
    "### Lösung:\n",
    "\n",
    "1. `['Hugo', 'Rudi']`\n",
    "2. `['Katharina', 'Edelbert', 'Hugo', 'Rudi']`"
   ]
  }
 ],
 "metadata": {
  "kernelspec": {
   "display_name": "Python 3",
   "language": "python",
   "name": "python3"
  },
  "language_info": {
   "codemirror_mode": {
    "name": "ipython",
    "version": 3
   },
   "file_extension": ".py",
   "mimetype": "text/x-python",
   "name": "python",
   "nbconvert_exporter": "python",
   "pygments_lexer": "ipython3",
   "version": "3.7.1"
  },
  "widgets": {
   "application/vnd.jupyter.widget-state+json": {
    "state": {},
    "version_major": 1,
    "version_minor": 0
   }
  }
 },
 "nbformat": 4,
 "nbformat_minor": 2
}
