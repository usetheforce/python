{
 "cells": [
  {
   "cell_type": "markdown",
   "metadata": {},
   "source": [
    "## Dictionaries\n",
    "\n",
    "Ein Dictionary ist -- genau wie eine Liste -- eine Sammlung von Daten. Das Problem bei Listen ist, dass man wissen muss, an welcher Stelle in der Liste etwas steht, um es adressieren zu können.\n",
    "\n",
    "Bei Dictionaries wird über ein \"key\"-Objekt adressiert. (Dictionaries sind damit schon irgendwo ähnlich zu Datenbanken.)\n",
    "\n",
    "Statt eckige Klammern verwendet man bei einem Dictionary geschweifte Klammern."
   ]
  },
  {
   "cell_type": "markdown",
   "metadata": {},
   "source": [
    "### Beispiele:\n",
    "\n",
    "1. Dictionary anlegen"
   ]
  },
  {
   "cell_type": "code",
   "execution_count": 29,
   "metadata": {},
   "outputs": [
    {
     "data": {
      "text/plain": [
       "{'erster key': 'erster Text', 'zweiter key': 'zweiter Text'}"
      ]
     },
     "execution_count": 29,
     "metadata": {},
     "output_type": "execute_result"
    }
   ],
   "source": [
    "meinDictionary = {\"erster key\":\"erster Text\",\"zweiter key\":\"zweiter Text\"}\n",
    "meinDictionary"
   ]
  },
  {
   "cell_type": "markdown",
   "metadata": {},
   "source": [
    "2. Inhalt abfragen und neu zuweisen über \"eckige-Klammern\"-Operator"
   ]
  },
  {
   "cell_type": "code",
   "execution_count": 30,
   "metadata": {},
   "outputs": [
    {
     "data": {
      "text/plain": [
       "'mein allerallererster Text'"
      ]
     },
     "execution_count": 30,
     "metadata": {},
     "output_type": "execute_result"
    }
   ],
   "source": [
    "meinDictionary[\"erster key\"] = \"mein allerallererster Text\"\n",
    "meinDictionary[\"erster key\"]"
   ]
  },
  {
   "cell_type": "markdown",
   "metadata": {},
   "source": [
    "### Dictionary-Methoden:\n",
    "\n",
    "|Methode|Beschreibung|\n",
    "|:--- |:--- |\n",
    "|.get(key)|Gib Inhalt zu \"key\" zurück| \n",
    "|.update(dictionary)|Füge die Inhalte aus \"dictionary\" in das ursprüngliche Dictionary ein|\n",
    "|.keys()|Gib eine Liste aller keys zurück|\n",
    "|.values()|Gib eine Liste aller Inhalte zurück|\n",
    "|.has_key(key)|Ist `True`, wenn das Dictionary den key \"key\" hat, sonst `False`. <br><b><font color=\"red\">Gibt es nicht mehr in Python Version 3!</b> Benutze statt dessen:<br> \"`key in dictionary`\".|\n",
    "\n",
    "### Beispiele:"
   ]
  },
  {
   "cell_type": "code",
   "execution_count": 31,
   "metadata": {},
   "outputs": [
    {
     "data": {
      "text/plain": [
       "'mein allerallererster Text'"
      ]
     },
     "execution_count": 31,
     "metadata": {},
     "output_type": "execute_result"
    }
   ],
   "source": [
    "meinDictionary.get(\"erster key\")"
   ]
  },
  {
   "cell_type": "code",
   "execution_count": 32,
   "metadata": {},
   "outputs": [
    {
     "data": {
      "text/plain": [
       "dict_values(['mein gar nicht so erster Text', 'zweiter Text'])"
      ]
     },
     "execution_count": 32,
     "metadata": {},
     "output_type": "execute_result"
    }
   ],
   "source": [
    "meinDictionary.update( {\"erster key\":\"mein gar nicht so erster Text\" } )\n",
    "meinDictionary.values()"
   ]
  },
  {
   "cell_type": "code",
   "execution_count": 33,
   "metadata": {},
   "outputs": [
    {
     "data": {
      "text/plain": [
       "dict_keys(['erster key', 'zweiter key'])"
      ]
     },
     "execution_count": 33,
     "metadata": {},
     "output_type": "execute_result"
    }
   ],
   "source": [
    "meinDictionary.keys()"
   ]
  },
  {
   "cell_type": "code",
   "execution_count": 38,
   "metadata": {},
   "outputs": [
    {
     "data": {
      "text/plain": [
       "False"
      ]
     },
     "execution_count": 38,
     "metadata": {},
     "output_type": "execute_result"
    }
   ],
   "source": [
    "\"dritter key\" in meinDictionary"
   ]
  },
  {
   "cell_type": "markdown",
   "metadata": {},
   "source": [
    "### Aufgabe 9:\n",
    "Löse die folgenden Aufgaben in Python und speichere das Ergebnis unter *VornameNachname*-aufgabe9.ipynb auf Laufwerk H:.\n",
    "\n",
    "1. Lege ein Dictionary an, das deine drei Lieblingstiere folgendermaßen enthält: als key den Vornamen und als Inhalt die Gattung. Gib die Vornamen als Liste aus.\n",
    "2. Füge \"Hubert\", den Hund, als Tier zum Dictionary hinzu und überprüfe, ob er als key in deinem Dictionary vorkommt."
   ]
  },
  {
   "cell_type": "code",
   "execution_count": null,
   "metadata": {},
   "outputs": [],
   "source": []
  },
  {
   "cell_type": "code",
   "execution_count": null,
   "metadata": {},
   "outputs": [],
   "source": []
  },
  {
   "cell_type": "markdown",
   "metadata": {},
   "source": [
    "### Lösung:\n",
    "\n",
    "1. `dict_keys(['Max', 'Moritz', 'Edelbert'])` # Das sieht nicht aus wie eine Liste, ist für unsere Zwecke aber eine.\n",
    "2. `True`"
   ]
  }
 ],
 "metadata": {
  "kernelspec": {
   "display_name": "Python 3",
   "language": "python",
   "name": "python3"
  },
  "language_info": {
   "codemirror_mode": {
    "name": "ipython",
    "version": 3
   },
   "file_extension": ".py",
   "mimetype": "text/x-python",
   "name": "python",
   "nbconvert_exporter": "python",
   "pygments_lexer": "ipython3",
   "version": "3.7.1"
  },
  "widgets": {
   "application/vnd.jupyter.widget-state+json": {
    "state": {},
    "version_major": 1,
    "version_minor": 0
   }
  }
 },
 "nbformat": 4,
 "nbformat_minor": 2
}
