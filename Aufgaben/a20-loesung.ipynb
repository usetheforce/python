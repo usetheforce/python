{
 "cells": [
  {
   "cell_type": "markdown",
   "metadata": {},
   "source": [
    "#### Lösung:\n",
    "\n",
    "1."
   ]
  },
  {
   "cell_type": "code",
   "execution_count": 11,
   "metadata": {},
   "outputs": [
    {
     "name": "stdout",
     "output_type": "stream",
     "text": [
      "[('table', 'land', 'land', 2, 'CREATE TABLE `land` (\\n  `LNR` varchar(4) NOT NULL,\\n  `Name` varchar(50) NOT NULL,\\n  `Einwohner` double(20,2) DEFAULT NULL,\\n  `Flaeche` double(53,0) DEFAULT NULL,\\n  `Hauptstadt` varchar(30) DEFAULT NULL,\\n  `Kontinent` varchar(15) DEFAULT NULL,\\n  `KontinentFlaeche` double(8,0) DEFAULT NULL,\\n  `KontinentEinwohner` double(8,0) NOT NULL\\n)'), ('table', 'ort', 'ort', 14, 'CREATE TABLE `ort` (\\n  `Name` varchar(30) DEFAULT NULL,\\n  `Land` varchar(50) NOT NULL,\\n  `Einwohner` int(11) DEFAULT NULL,\\n  `Laenge` double(10,4) DEFAULT NULL,\\n  `Breite` double(10,4) DEFAULT NULL\\n)')]\n"
     ]
    }
   ],
   "source": [
    "import sqlite3 # 1.\n",
    "\n",
    "datenbankverbindung = sqlite3.connect( \"Firma.db\") # 2.\n",
    "\n",
    "cursor = datenbankverbindung.cursor() # 3.\n",
    "\n",
    "cursor.execute(\"SELECT * FROM sqlite_master;\") # 4.\n",
    "\n",
    "ergebnis = cursor.fetchall() # 5.\n",
    "print ( ergebnis )\n",
    "\n",
    "datenbankverbindung.close() # 6."
   ]
  },
  {
   "cell_type": "markdown",
   "metadata": {},
   "source": [
    "2. \"Hauptstadt\" ist in der Tabelle \"land\" und vom Datentyp \"str\"."
   ]
  }
 ],
 "metadata": {
  "kernelspec": {
   "display_name": "Python 3",
   "language": "python",
   "name": "python3"
  },
  "language_info": {
   "codemirror_mode": {
    "name": "ipython",
    "version": 3
   },
   "file_extension": ".py",
   "mimetype": "text/x-python",
   "name": "python",
   "nbconvert_exporter": "python",
   "pygments_lexer": "ipython3",
   "version": "3.7.1"
  },
  "widgets": {
   "application/vnd.jupyter.widget-state+json": {
    "state": {},
    "version_major": 1,
    "version_minor": 0
   }
  }
 },
 "nbformat": 4,
 "nbformat_minor": 2
}
