{
 "cells": [
  {
   "cell_type": "markdown",
   "metadata": {},
   "source": [
    "### Lösung: \n",
    "\n",
    "- Erstelle eine SQLite-Datenbank \"autowerkstatt.db\" und lege dort die Tabellen \"Auto\" und \"Kunde\" an wie oben angegeben. Überprüfe das Ergebnis mit einem `\"SELECT * FROM sqlite_master;\"`-Statement.\n"
   ]
  },
  {
   "cell_type": "code",
   "execution_count": 16,
   "metadata": {},
   "outputs": [
    {
     "name": "stdout",
     "output_type": "stream",
     "text": [
      "[('table', 'Auto', 'Auto', 2, 'CREATE TABLE Auto ( Kennzeichen TEXT PRIMARY KEY,     Kilometerstand INTEGER, Fabrikat TEXT )'), ('index', 'sqlite_autoindex_Auto_1', 'Auto', 3, None), ('table', 'Kunde', 'Kunde', 5, 'CREATE TABLE Kunde ( Name TEXT PRIMARY KEY,     Adresse TEXT, besitzt TEXT )'), ('index', 'sqlite_autoindex_Kunde_1', 'Kunde', 4, None)]\n"
     ]
    }
   ],
   "source": [
    "import sqlite3 \n",
    "\n",
    "datenbankverbindung = sqlite3.connect( \"autowerkstatt.db\") \n",
    "\n",
    "cursor = datenbankverbindung.cursor() \n",
    "\n",
    "cursor.execute(\"DROP TABLE IF EXISTS Auto;\") # Tabelle löschen, wenn es sie schon gibt\n",
    "cursor.execute(\"DROP TABLE IF EXISTS Kunde;\") # Tabelle löschen, wenn es sie schon gibt\n",
    "cursor.execute(\"CREATE TABLE IF NOT EXISTS Auto ( Kennzeichen TEXT PRIMARY KEY, \\\n",
    "    Kilometerstand INTEGER, Fabrikat TEXT );\") \n",
    "cursor.execute(\"CREATE TABLE IF NOT EXISTS Kunde ( Name TEXT PRIMARY KEY, \\\n",
    "    Adresse TEXT, besitzt TEXT );\")\n",
    "\n",
    "datenbankverbindung.commit()\n",
    "\n",
    "cursor.execute(\"SELECT * FROM sqlite_master;\")\n",
    "ergebnis = cursor.fetchall() \n",
    "print ( ergebnis )\n",
    "\n",
    "datenbankverbindung.close()\n"
   ]
  },
  {
   "cell_type": "markdown",
   "metadata": {},
   "source": [
    "- Befülle die Datenbank mit mindestens 3 Autos und mindestens \"Tim Turner\" und \"Tanja Tochter\" als Kunden. Überprüfe das Ergebnis mit einem `\"SELECT * FROM Auto;\"`- bzw. `\"SELECT * FROM Kunde;\"`-Statement."
   ]
  },
  {
   "cell_type": "code",
   "execution_count": 19,
   "metadata": {},
   "outputs": [
    {
     "name": "stdout",
     "output_type": "stream",
     "text": [
      "[('LA-CH123', 120001, 'Opel Kapitän'), ('LA-UT666', 97779, 'Opel Diplomat'), ('LA-TZ987', 28271, 'NSU Prinz'), ('LA-MM128', 147888, 'Saab 9000'), ('LA-UF520', 197812, 'Opel Admiral')]\n",
      "[('Kurt Kasper', 'An der Affenschaukel 5, Untermaulbach', 'LA-CH123, LA-TZ987, LA-UF520'), ('Tanja Tochter', 'Am Löschteich 28, Teichgraben', 'LA-MM128'), ('Tim Turner', 'Unterm Bach 1, Obermaulbach', 'LA-UT666')]\n"
     ]
    }
   ],
   "source": [
    "import sqlite3 \n",
    "\n",
    "datenbankverbindung = sqlite3.connect( \"autowerkstatt.db\") \n",
    "cursor = datenbankverbindung.cursor() \n",
    "\n",
    "cursor.execute(\"INSERT INTO Auto (Kennzeichen, Kilometerstand, Fabrikat) \\\n",
    "    VALUES ('LA-CH123',120001,'Opel Kapitän' );\")\n",
    "cursor.execute(\"INSERT INTO Auto (Kennzeichen, Kilometerstand, Fabrikat) \\\n",
    "    VALUES ('LA-UT666',97779,'Opel Diplomat');\")\n",
    "cursor.execute(\"INSERT INTO Auto (Kennzeichen, Kilometerstand, Fabrikat) \\\n",
    "    VALUES ('LA-TZ987',28271,'NSU Prinz' );\")\n",
    "cursor.execute(\"INSERT INTO Auto (Kennzeichen, Kilometerstand, Fabrikat) \\\n",
    "    VALUES ('LA-MM128',147888,'Saab 9000');\")\n",
    "cursor.execute(\"INSERT INTO Auto (Kennzeichen, Kilometerstand, Fabrikat) \\\n",
    "    VALUES ('LA-UF520',197812,'Opel Admiral' );\")\n",
    "\n",
    "cursor.execute(\"INSERT INTO Kunde (Name, Adresse, besitzt) \\\n",
    "    VALUES ( 'Kurt Kasper', 'An der Affenschaukel 5, Untermaulbach', 'LA-CH123, LA-TZ987, LA-UF520' );\")\n",
    "cursor.execute(\"INSERT INTO Kunde (Name, Adresse, besitzt) \\\n",
    "    VALUES ( 'Tanja Tochter', 'Am Löschteich 28, Teichgraben', 'LA-MM128' );\")\n",
    "cursor.execute(\"INSERT INTO Kunde (Name, Adresse, besitzt) \\\n",
    "    VALUES ( 'Tim Turner', 'Unterm Bach 1, Obermaulbach', 'LA-UT666' );\")\n",
    "\n",
    "datenbankverbindung.commit()\n",
    "\n",
    "cursor.execute(\"SELECT * FROM Auto;\")\n",
    "ergebnis = cursor.fetchall() \n",
    "print ( ergebnis )\n",
    "cursor.execute(\"SELECT * FROM Kunde;\")\n",
    "ergebnis = cursor.fetchall() \n",
    "print ( ergebnis )\n",
    "\n",
    "datenbankverbindung.close()\n"
   ]
  },
  {
   "cell_type": "markdown",
   "metadata": {},
   "source": [
    "- Schreibe Python-Code, der Tanja Tochters Adresse und den Kilometerstand ihres Autos per INNER JOIN-Statement ausgibt."
   ]
  },
  {
   "cell_type": "code",
   "execution_count": 20,
   "metadata": {},
   "outputs": [
    {
     "name": "stdout",
     "output_type": "stream",
     "text": [
      "[('Am Löschteich 28, Teichgraben', 147888)]\n"
     ]
    }
   ],
   "source": [
    "import sqlite3 \n",
    "\n",
    "datenbankverbindung = sqlite3.connect( \"autowerkstatt.db\") \n",
    "\n",
    "cursor = datenbankverbindung.cursor() \n",
    "\n",
    "cursor.execute(\"SELECT Kunde.Adresse, Auto.Kilometerstand \\\n",
    "    FROM Kunde, Auto WHERE Kunde.besitzt = Auto.Kennzeichen AND Kunde.Name = 'Tanja Tochter';\")\n",
    "ergebnis = cursor.fetchall() \n",
    "print ( ergebnis )\n",
    "\n",
    "datenbankverbindung.close()"
   ]
  }
 ],
 "metadata": {
  "kernelspec": {
   "display_name": "Python 3",
   "language": "python",
   "name": "python3"
  },
  "language_info": {
   "codemirror_mode": {
    "name": "ipython",
    "version": 3
   },
   "file_extension": ".py",
   "mimetype": "text/x-python",
   "name": "python",
   "nbconvert_exporter": "python",
   "pygments_lexer": "ipython3",
   "version": "3.7.1"
  },
  "widgets": {
   "application/vnd.jupyter.widget-state+json": {
    "state": {},
    "version_major": 1,
    "version_minor": 0
   }
  }
 },
 "nbformat": 4,
 "nbformat_minor": 2
}
