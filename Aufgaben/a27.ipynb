{
 "cells": [
  {
   "cell_type": "markdown",
   "metadata": {},
   "source": [
    "## Dritte Normalform\n",
    "\n",
    "<u>Eine Datenbank ist in der <b>3. Normalform</b>, wenn es keine Spalte gibt, deren Werte immer sofort direkt aus einer anderen Spalte folgen.</u>\n",
    "\n",
    "Man könnte auch sagen: alle Redundanzen sind jetzt aus den Tabellen entfernt.\n",
    "\n",
    "In unserem Beispiel folgt der Hersteller aus dem Modell. Also könnte man die Tabelle der Hersteller abtrennen:\n",
    "\n",
    "    \n",
    "<center><b>Auto</b></center>\n",
    "    \n",
    "|<u>Kennzeichen</u>|Kilometerstand|Modell|Kundennummer|\n",
    "|:--- |:--- |:--- |:--- |\n",
    "|LA-CH123|120001|Kapitän|47|\n",
    "|LA-UT666|97779|Diplomat|111|\n",
    "|LA-TZ987|28271|Prinz|47|\n",
    "|LA-MM128|147888|9000|227|\n",
    "|LA-UF520|197812|Admiral|47|\n",
    "\n",
    "<center><b>hergestellt_von</b></center>\n",
    "    \n",
    "|<u>Modell</u>|Hersteller|\n",
    "|:--- |:--- |\n",
    "|Kapitän|Opel|\n",
    "|Diplomat|Opel|\n",
    "|Prinz|NSU|\n",
    "|9000|Saab|\n",
    "|Admiral|Opel|\n",
    "    \n",
    "<center><b>Kunde</b></center>\n",
    "    \n",
    "|Kunde|Adresse|<u>Kundennummer</u>|\n",
    "|:--- |:--- |:--- |\n",
    "|Kurt Kasper|An der Affenschaukel 5, Untermaulbach|47|\n",
    "|Tim Turner|Unterm Bach 1, Obermaulbach|111|\n",
    "|Tanja Tochter|Am Löschteich 28, Teichgraben|227|\n",
    "|Kurt Kasper|Heißt-genau-so-wie 47, Machtabernix|2001|\n",
    "\n",
    "### Hinweise:\n",
    "\n",
    "- Für eine Normalform müssen die Tabellen zuvor in die vorhergehende(n) Normalform(en) gebracht werden. Für z. B. die 3. Normalform müssen die Tabellen auch in der 1. und 2. Normalform sein.\n",
    "- Die Tabellenbezeichnungen dürfen in SQL keine Leerzeichen enthalten. Deshalb wurde in \"hergestellt_von\" ein Unterstrich eingefügt."
   ]
  },
  {
   "cell_type": "markdown",
   "metadata": {},
   "source": [
    "### Aufgabe 27: \n",
    "Löse die folgenden Aufgaben in Python und speichere das Ergebnis unter *VornameNachname*-aufgabe27.ipynb auf Laufwerk H:.\n",
    "\n",
    "- Passe per Python und SQL die Tabellen in deiner Datenbank so an, dass sie der oben gezeigten dritten Normalform entsprechen. (Empfehlung: Tabellen löschen und neu anlegen.)"
   ]
  },
  {
   "cell_type": "code",
   "execution_count": 1,
   "metadata": {},
   "outputs": [
    {
     "name": "stdout",
     "output_type": "stream",
     "text": [
      "[('LA-CH123', 120001, 'Kapitän', 47), ('LA-UT666', 97779, 'Diplomat', 111), ('LA-TZ987', 28271, 'Prinz', 47), ('LA-MM128', 147888, '9000', 227), ('LA-UF520', 197812, 'Admiral', 47)]\n",
      "[('Kurt Kasper', 'An der Affenschaukel 5, Untermaulbach', '47'), ('Tanja Tochter', 'Am Löschteich 28, Teichgraben', '227'), ('Tim Turner', 'Unterm Bach 1, Obermaulbach', '111'), ('Kurt Kasper', 'Heißt-genau-so-wie 47, Machtabernix', '2001')]\n",
      "[('Kapitän', 'Opel'), ('Diplomat', 'Opel'), ('Prinz', 'NSU'), ('9000', 'Saab'), ('Admiral', 'Opel')]\n"
     ]
    }
   ],
   "source": []
  },
  {
   "cell_type": "markdown",
   "metadata": {},
   "source": [
    "- Verändere deinen Code aus der letzten Aufgabe so, dass in der neuen Variante Tanja Tochters Adresse, der Kilometerstand und das Herstellungsland ihres Autos per INNER JOIN-Statement ausgegeben werden."
   ]
  },
  {
   "cell_type": "code",
   "execution_count": 2,
   "metadata": {},
   "outputs": [
    {
     "name": "stdout",
     "output_type": "stream",
     "text": [
      "[('Am Löschteich 28, Teichgraben', '9000', 'Saab')]\n"
     ]
    }
   ],
   "source": []
  },
  {
   "cell_type": "markdown",
   "metadata": {},
   "source": [
    "### Zusatzaufgabe:\n",
    "\n",
    "- Die Adresse soll in \"Strasse\" und \"Ort\" aufgespalten werden. Schreibe auf, wie die Tabellen aussehen müssten, damit sie allen drei Normalformen entsprechen. Passe in einem zweiten Schritt per Python und SQL die Tabellen in deiner Datenbank entsprechend an.  (Empfehlung: Tabellen löschen und neu anlegen.)"
   ]
  },
  {
   "cell_type": "markdown",
   "metadata": {},
   "source": [
    "..."
   ]
  },
  {
   "cell_type": "code",
   "execution_count": null,
   "metadata": {},
   "outputs": [],
   "source": []
  },
  {
   "cell_type": "markdown",
   "metadata": {},
   "source": [
    "- Verändere deinen Code aus der letzten Aufgabe so, dass in der neuen Variante Tanja Tochters Adresse und alle Daten zu ihrem Auto per INNER JOIN-Statement ausgegeben werden."
   ]
  },
  {
   "cell_type": "code",
   "execution_count": null,
   "metadata": {},
   "outputs": [],
   "source": []
  }
 ],
 "metadata": {
  "kernelspec": {
   "display_name": "Python 3",
   "language": "python",
   "name": "python3"
  },
  "language_info": {
   "codemirror_mode": {
    "name": "ipython",
    "version": 3
   },
   "file_extension": ".py",
   "mimetype": "text/x-python",
   "name": "python",
   "nbconvert_exporter": "python",
   "pygments_lexer": "ipython3",
   "version": "3.7.1"
  },
  "widgets": {
   "application/vnd.jupyter.widget-state+json": {
    "state": {},
    "version_major": 1,
    "version_minor": 0
   }
  }
 },
 "nbformat": 4,
 "nbformat_minor": 2
}
