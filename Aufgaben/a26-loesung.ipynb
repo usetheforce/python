{
 "cells": [
  {
   "cell_type": "markdown",
   "metadata": {},
   "source": [
    "### Lösung Aufgabe 26: \n",
    "Löse die folgenden Aufgaben in Python und speichere das Ergebnis unter *VornameNachname*-aufgabe26.ipynb auf Laufwerk H:.\n",
    "\n",
    "- Nenne einen weiteren Grund (außer, dass zwei Kunden mit gleichem Namen möglich sind) dafür, warum es keine gute Idee ist, das Auto über den Namen des Besitzers zuzuordnen.\n"
   ]
  },
  {
   "cell_type": "markdown",
   "metadata": {},
   "source": [
    "Wenn es beim Besitzer eine Namensänderung gibt (z. B. durch Heirat), muss der Fremdschlüssel in zwei Tabellen geändert werden. Bei einem Schreibfehler kann es eine Änderungsanomalie geben und dadurch Verlust der referentiellen Integrität."
   ]
  },
  {
   "cell_type": "markdown",
   "metadata": {},
   "source": [
    "- Welches Problem könnte es mit dem Autokennzeichen als Primärschlüssel für die Fahrzeuge geben?"
   ]
  },
  {
   "cell_type": "markdown",
   "metadata": {},
   "source": [
    "Es könnte ein Fahrzeug abgemeldet und ein anderes mit der gleichen Nummer zugelassen werden. (Mögliche Lösung: Fahrgestellnummer)"
   ]
  },
  {
   "cell_type": "markdown",
   "metadata": {},
   "source": [
    "- Passe per Python und SQL die Tabellen in deiner Datenbank so an, dass sie der Variante mit den Kundennummern entsprechen. (Empfehlung: Tabellen löschen und neu anlegen.)\n"
   ]
  },
  {
   "cell_type": "code",
   "execution_count": 3,
   "metadata": {},
   "outputs": [
    {
     "name": "stdout",
     "output_type": "stream",
     "text": [
      "[('LA-CH123', 120001, 'Opel Kapitän', 'BRD', 47), ('LA-UT666', 97779, 'Opel Diplomat', 'BRD', 111), ('LA-TZ987', 28271, 'NSU Prinz', 'BRD', 47), ('LA-MM128', 147888, 'Saab 9000', 'Schweden', 227), ('LA-UF520', 197812, 'Trabant Sport', 'DDR', 47)]\n",
      "[('Kurt Kasper', 'An der Affenschaukel 5, Untermaulbach', '47'), ('Tanja Tochter', 'Am Löschteich 28, Teichgraben', '111'), ('Tim Turner', 'Unterm Bach 1, Obermaulbach', '227'), ('Kurt Kasper', 'Heißt-genau-so-wie 47, Machtabernix', '2001')]\n"
     ]
    }
   ],
   "source": [
    "import sqlite3 \n",
    "\n",
    "datenbankverbindung = sqlite3.connect( \"autowerkstatt.db\") \n",
    "\n",
    "cursor = datenbankverbindung.cursor() \n",
    "\n",
    "cursor.execute(\"DROP TABLE IF EXISTS Auto;\") # Tabelle löschen, wenn es sie schon gibt\n",
    "cursor.execute(\"DROP TABLE IF EXISTS Kunde;\") # Tabelle löschen, wenn es sie schon gibt\n",
    "cursor.execute(\"CREATE TABLE IF NOT EXISTS Auto ( Kennzeichen TEXT PRIMARY KEY, \\\n",
    "    Kilometerstand INTEGER, Modell TEXT, Hersteller TEXT, Kundennummer INTEGER );\") \n",
    "cursor.execute(\"CREATE TABLE IF NOT EXISTS Kunde ( Name TEXT, \\\n",
    "    Adresse TEXT, Kundennummer TEXT  PRIMARY KEY);\")\n",
    "\n",
    "cursor.execute(\"INSERT INTO Auto (Kennzeichen, Kilometerstand, Modell, Hersteller, Kundennummer) \\\n",
    "    VALUES ('LA-CH123',120001,'Opel Kapitän','BRD',47 );\")\n",
    "cursor.execute(\"INSERT INTO Auto (Kennzeichen, Kilometerstand, Modell, Hersteller, Kundennummer) \\\n",
    "    VALUES ('LA-UT666',97779,'Opel Diplomat','BRD',111 );\")\n",
    "cursor.execute(\"INSERT INTO Auto (Kennzeichen, Kilometerstand, Modell, Hersteller, Kundennummer) \\\n",
    "    VALUES ('LA-TZ987',28271,'NSU Prinz','BRD',47 );\")\n",
    "cursor.execute(\"INSERT INTO Auto (Kennzeichen, Kilometerstand, Modell, Hersteller, Kundennummer) \\\n",
    "    VALUES ('LA-MM128',147888,'Saab 9000','Schweden',227);\")\n",
    "cursor.execute(\"INSERT INTO Auto (Kennzeichen, Kilometerstand, Modell, Hersteller, Kundennummer) \\\n",
    "    VALUES ('LA-UF520',197812,'Trabant Sport','DDR',47 );\")\n",
    "\n",
    "cursor.execute(\"INSERT INTO Kunde (Name, Adresse, Kundennummer) \\\n",
    "    VALUES ( 'Kurt Kasper', 'An der Affenschaukel 5, Untermaulbach', 47 );\")\n",
    "cursor.execute(\"INSERT INTO Kunde (Name, Adresse, Kundennummer) \\\n",
    "    VALUES ( 'Tanja Tochter', 'Am Löschteich 28, Teichgraben', 111 );\")\n",
    "cursor.execute(\"INSERT INTO Kunde (Name, Adresse, Kundennummer) \\\n",
    "    VALUES ( 'Tim Turner', 'Unterm Bach 1, Obermaulbach', 227 );\")\n",
    "cursor.execute(\"INSERT INTO Kunde (Name, Adresse, Kundennummer) \\\n",
    "    VALUES ( 'Kurt Kasper', 'Heißt-genau-so-wie 47, Machtabernix', 2001 );\")\n",
    "\n",
    "datenbankverbindung.commit()\n",
    "cursor.execute(\"SELECT * FROM sqlite_master;\")\n",
    "ergebnis = cursor.fetchall() \n",
    "#print ( ergebnis )\n",
    "cursor.execute(\"SELECT * FROM Auto;\")\n",
    "ergebnis = cursor.fetchall() \n",
    "print ( ergebnis )\n",
    "cursor.execute(\"SELECT * FROM Kunde;\")\n",
    "ergebnis = cursor.fetchall() \n",
    "print ( ergebnis )\n",
    "\n",
    "datenbankverbindung.close()"
   ]
  },
  {
   "cell_type": "markdown",
   "metadata": {},
   "source": [
    "- Verändere deinen Code aus der letzten Aufgabe so, dass in der neuen Variante wieder Tanja Tochters Adresse und der Kilometerstand ihres Autos per INNER JOIN-Statement ausgegeben werden."
   ]
  },
  {
   "cell_type": "code",
   "execution_count": 4,
   "metadata": {},
   "outputs": [
    {
     "name": "stdout",
     "output_type": "stream",
     "text": [
      "[('Am Löschteich 28, Teichgraben', 97779)]\n"
     ]
    }
   ],
   "source": [
    "import sqlite3 \n",
    "\n",
    "datenbankverbindung = sqlite3.connect( \"autowerkstatt.db\") \n",
    "\n",
    "cursor = datenbankverbindung.cursor() \n",
    "\n",
    "cursor.execute(\"SELECT Kunde.Adresse, Auto.Kilometerstand \\\n",
    "    FROM Kunde, Auto WHERE Kunde.Kundennummer = Auto.Kundennummer AND Kunde.Name = 'Tanja Tochter';\")\n",
    "ergebnis = cursor.fetchall() \n",
    "print ( ergebnis )\n",
    "\n",
    "datenbankverbindung.close()"
   ]
  }
 ],
 "metadata": {
  "kernelspec": {
   "display_name": "Python 3",
   "language": "python",
   "name": "python3"
  },
  "language_info": {
   "codemirror_mode": {
    "name": "ipython",
    "version": 3
   },
   "file_extension": ".py",
   "mimetype": "text/x-python",
   "name": "python",
   "nbconvert_exporter": "python",
   "pygments_lexer": "ipython3",
   "version": "3.7.1"
  },
  "widgets": {
   "application/vnd.jupyter.widget-state+json": {
    "state": {},
    "version_major": 1,
    "version_minor": 0
   }
  }
 },
 "nbformat": 4,
 "nbformat_minor": 2
}
