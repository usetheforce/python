{
 "cells": [
  {
   "cell_type": "markdown",
   "metadata": {},
   "source": [
    "## SQL\n",
    "\n",
    "SQL steht für \"Structured Query Language\" und ist die Sprache,  über die mit Datenbank-Systemen kommuniziert wird. Die meisten Befehle sind bei allen Datenbank-Systemen gleich. Bei besonderen Befehlen gibt es jedoch auch Unterschiede.\n",
    "\n",
    "Grundsätzlich ist der Umgang mit Datenbanken komplizierter als mit einfachen Text- oder JSON-Dateien und besteht aus mehreren Schritten:\n",
    "\n",
    "1. Befehls-Bibliothek für Datenbank importieren\n",
    "2. Verbindung zur Datenbank aufbauen\n",
    "3. \"Cursor\" (\"Datenzeiger\") von der Datenbank holen\n",
    "4. Befehl an die Datenbank schicken\n",
    "5. Ergebnis des Befehls von der Datenbank holen\n",
    "6. Verbindung zur Datenbank beenden\n",
    "\n",
    "### Beipiel:\n"
   ]
  },
  {
   "cell_type": "code",
   "execution_count": 10,
   "metadata": {},
   "outputs": [
    {
     "name": "stdout",
     "output_type": "stream",
     "text": [
      "[('table', 'Lager', 'Lager', 2, 'CREATE TABLE `Lager` (\\n  `Artikel_Nr` int(11) DEFAULT NULL,\\n  `Artikelart` varchar(17) DEFAULT NULL,\\n  `Artikelbezeichnung` varchar(9) DEFAULT NULL,\\n  `Bestand` int(11) DEFAULT NULL,\\n  `Einkaufspreis` int(11) DEFAULT NULL,\\n  `Verkaufspreis` int(11) DEFAULT NULL\\n)')]\n"
     ]
    }
   ],
   "source": [
    "import sqlite3 # 1.\n",
    "\n",
    "datenbankverbindung = sqlite3.connect( \"Firma.db\") # 2.\n",
    "\n",
    "cursor = datenbankverbindung.cursor() # 3.\n",
    "\n",
    "cursor.execute(\"SELECT * FROM sqlite_master;\") # 4.\n",
    "\n",
    "ergebnis = cursor.fetchall() # 5.\n",
    "print ( ergebnis )\n",
    "\n",
    "datenbankverbindung.close() # 6."
   ]
  },
  {
   "cell_type": "markdown",
   "metadata": {},
   "source": [
    "### Erklärung:\n",
    "\n",
    "Der SQL-Befehl `SELECT * FROM sqlite_master;` ist spezifisch für Sqlite-Datenbanken und liefert Informationen über die in der Datenbank gespeicherten Tabellen. Das Ergebnis der Abfrage ist eine Liste mit allen Tabellen und ihren Spalten. Im Beispiel haben wir nur eine Tabelle mit Namen \"Lager\".\n",
    "\n",
    "Hinter dem Text `CREATE TABLE` folgen alle Spaltenbezeichnungen der Tabelle mit den zugehörigen Datentypen. Diese sind hier nochmal übersichtlicher aufgelistet:\n",
    "\n",
    "|Spalte|Datentyp|\n",
    "|:--- |:--- |\n",
    "|Artikel_Nr|int(11)| \n",
    "|Artikelart|varchar(17)|\n",
    "|Artikelbezeichnung|varchar(9)|\n",
    "|Bestand|int(11)|\n",
    "|Einkaufspreis|int(11)|\n",
    "|Verkaufspreis|int(11)|\n",
    "\n",
    "Dabei entspricht \"int\" dem Python-\"int\" und \"varchar\" dem Python-\"str\"-Typ. \n",
    "\n",
    "Die Zahlen in Klammern dahinter geben an, wieviele Stellen für die Einträge in der Spalte reserviert werden sollen. Diese Angabe aus dem SQL-Standard wird von Sqlite aber ignoriert und die Länge immer automatisch angepasst, so dass auch wir diese Zahl nicht zu beachten brauchen.\n",
    "\n",
    "Sqlite kennt noch 3 weitere Datentypen. Davon ist für uns aber nur eine interessant, nämlich \"real\", was Python-\"float\" entspricht. \n",
    "\n",
    "Wer sich für die restlichen beiden interessiert: die sind <a href=\"https://www.sqlite.org/datatype3.html#determination_of_column_affinity\">hier</a> erklärt (leider in Englisch).\n",
    "\n"
   ]
  },
  {
   "cell_type": "markdown",
   "metadata": {},
   "source": [
    "### Aufgabe 20:\n",
    "\n",
    "1. Schreibe ein Python-Skript, um herauszufinden, welche Tabellen in der Datenbank \"terra1.db\" enthalten sind."
   ]
  },
  {
   "cell_type": "code",
   "execution_count": null,
   "metadata": {},
   "outputs": [],
   "source": []
  },
  {
   "cell_type": "markdown",
   "metadata": {},
   "source": [
    "2. Beantworte mit dem Ergebnis im Lückentext unten die Frage, in welcher Tabelle eine Spalte mit dem Titel \"Hauptstadt\" enthalten ist und welchen Datentyp diese Spalte hat."
   ]
  },
  {
   "cell_type": "markdown",
   "metadata": {},
   "source": [
    "\"Hauptstadt\" ist in der Tabelle \".....\" und vom Datentyp \".....\"."
   ]
  },
  {
   "cell_type": "markdown",
   "metadata": {},
   "source": [
    "Speichere das Ergebnis unter *VornameNachname*-aufgabe20.ipynb auf Laufwerk H:.\n",
    "\n",
    "#### Hinweis:\n",
    "\n",
    "Wenn bei der Verbindung mit einer sqlite-Datenbank ein Fehler auftritt, kann es sein, dass der Inhalt der Datenbank überschrieben und dadurch gelöscht wird. Deshalb empfiehlt es sich, vor der Arbeit eine Sicherheitskopie der Datenbank-Datei anzulegen (rechte Maustaste im Filebrowser auf Datei $\\rightarrow$ \"Duplicate\").\n"
   ]
  },
  {
   "cell_type": "markdown",
   "metadata": {},
   "source": [
    "### Lösung\n",
    "\n",
    "1. Es gibt die Tabellen \"Land\" und \"Ort\"."
   ]
  }
 ],
 "metadata": {
  "kernelspec": {
   "display_name": "Python 3",
   "language": "python",
   "name": "python3"
  },
  "language_info": {
   "codemirror_mode": {
    "name": "ipython",
    "version": 3
   },
   "file_extension": ".py",
   "mimetype": "text/x-python",
   "name": "python",
   "nbconvert_exporter": "python",
   "pygments_lexer": "ipython3",
   "version": "3.7.1"
  },
  "widgets": {
   "application/vnd.jupyter.widget-state+json": {
    "state": {},
    "version_major": 1,
    "version_minor": 0
   }
  }
 },
 "nbformat": 4,
 "nbformat_minor": 2
}
