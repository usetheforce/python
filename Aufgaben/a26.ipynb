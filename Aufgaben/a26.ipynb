{
 "cells": [
  {
   "cell_type": "markdown",
   "metadata": {},
   "source": [
    "## Zweite Normalform\n",
    "\n",
    "<u>Eine Datenbank ist in der <b>2. Normalform</b>, wenn jedes Datenfeld eindeutig durch den Primärschlüssel bestimmt ist.</u>\n",
    "\n",
    "Das trifft auf unsere bisherigen Tabellen schon zu. Allerdings könnte es sein, dass ein Kunde mit dem gleichen Namen wie ein schon vorhandener Kunde dazukommt. Dann ist diese Bedingung nicht mehr erfüllt. \n",
    "Man könnte das Problem lösen, indem man Name und Adresse und vielleicht noch das Geburtsdatum des Kunden zu einem neuen Primärschlüssel zusammenführt. Einfacher ist es aber, Kundennummern zu vergeben:\n",
    "    \n",
    "<center><b>Auto</b></center>\n",
    "    \n",
    "|<u>Kennzeichen</u>|Kilometerstand|Modell|Hersteller|Kundennummer|\n",
    "|:--- |:--- |:--- |:--- |:--- |\n",
    "|LA-CH123|120001|Opel|Kapitän|47|\n",
    "|LA-UT666|97779|Opel|Diplomat|111|\n",
    "|LA-TZ987|28271|NSU|Prinz|47|\n",
    "|LA-MM128|147888|Saab|9000|227|\n",
    "|LA-UF520|197812|Opel|Admiral|47|\n",
    "    \n",
    "<center><b>Kunde</b></center>\n",
    "    \n",
    "|Kunde|Adresse|<u>Kundennummer</u>|\n",
    "|:--- |:--- |:--- |\n",
    "|Kurt Kasper|An der Affenschaukel 5, Untermaulbach|47|\n",
    "|Tim Turner|Unterm Bach 1, Obermaulbach|111|\n",
    "|Tanja Tochter|Am Löschteich 28, Teichgraben|227|\n",
    "|Kurt Kasper|Heißt-genau-so-wie 47, Machtabernix|2001|"
   ]
  },
  {
   "cell_type": "markdown",
   "metadata": {},
   "source": [
    "### Aufgabe 26: \n",
    "Löse die folgenden Aufgaben in Python und speichere das Ergebnis unter *VornameNachname*-aufgabe26.ipynb auf Laufwerk H:.\n",
    "\n",
    "- Nenne einen weiteren Grund (außer, dass zwei Kunden mit gleichem Namen möglich sind) dafür, warum es keine gute Idee ist, das Auto über den Namen des Besitzers zuzuordnen.\n"
   ]
  },
  {
   "cell_type": "markdown",
   "metadata": {},
   "source": [
    "..."
   ]
  },
  {
   "cell_type": "markdown",
   "metadata": {},
   "source": [
    "- Welches Problem könnte es mit dem Autokennzeichen als Primärschlüssel für die Fahrzeuge geben?"
   ]
  },
  {
   "cell_type": "markdown",
   "metadata": {},
   "source": [
    "..."
   ]
  },
  {
   "cell_type": "markdown",
   "metadata": {},
   "source": [
    "- Passe per Python und SQL die Tabellen in deiner Datenbank so an, dass sie der Variante mit den Kundennummern entsprechen. (Empfehlung: Tabellen löschen und neu anlegen.)\n"
   ]
  },
  {
   "cell_type": "code",
   "execution_count": 1,
   "metadata": {},
   "outputs": [
    {
     "name": "stdout",
     "output_type": "stream",
     "text": [
      "[('LA-CH123', 120001, 'Opel Kapitän', 'BRD', 47), ('LA-UT666', 97779, 'Opel Diplomat', 'BRD', 111), ('LA-TZ987', 28271, 'NSU Prinz', 'BRD', 47), ('LA-MM128', 147888, 'Saab 9000', 'Schweden', 227), ('LA-UF520', 197812, 'Trabant Sport', 'DDR', 47)]\n",
      "[('Kurt Kasper', 'An der Affenschaukel 5, Untermaulbach', '47'), ('Tanja Tochter', 'Am Löschteich 28, Teichgraben', '111'), ('Tim Turner', 'Unterm Bach 1, Obermaulbach', '227'), ('Kurt Kasper', 'Heißt-genau-so-wie 47, Machtabernix', '2001')]\n"
     ]
    }
   ],
   "source": []
  },
  {
   "cell_type": "markdown",
   "metadata": {},
   "source": [
    "- Verändere deinen Code aus der letzten Aufgabe so, dass in der neuen Variante wieder Tanja Tochters Adresse und der Kilometerstand ihres Autos per INNER JOIN-Statement ausgegeben werden."
   ]
  },
  {
   "cell_type": "code",
   "execution_count": 4,
   "metadata": {},
   "outputs": [
    {
     "name": "stdout",
     "output_type": "stream",
     "text": [
      "[('Am Löschteich 28, Teichgraben', 97779)]\n"
     ]
    }
   ],
   "source": []
  }
 ],
 "metadata": {
  "kernelspec": {
   "display_name": "Python 3",
   "language": "python",
   "name": "python3"
  },
  "language_info": {
   "codemirror_mode": {
    "name": "ipython",
    "version": 3
   },
   "file_extension": ".py",
   "mimetype": "text/x-python",
   "name": "python",
   "nbconvert_exporter": "python",
   "pygments_lexer": "ipython3",
   "version": "3.7.1"
  },
  "widgets": {
   "application/vnd.jupyter.widget-state+json": {
    "state": {},
    "version_major": 1,
    "version_minor": 0
   }
  }
 },
 "nbformat": 4,
 "nbformat_minor": 2
}
