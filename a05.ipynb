{
 "cells": [
  {
   "cell_type": "markdown",
   "metadata": {},
   "source": [
    "## Datentypen\n",
    "\n",
    "Daten kommen in verschiedenen \"Sorten\" vor, z. B. Zahlen oder Text. Um Python zu sagen, welcher Typ gemeint ist, gibt es bestimmte Kennzeichen.\n"
   ]
  },
  {
   "cell_type": "markdown",
   "metadata": {},
   "source": [
    "### Liste der wichtigsten Datentypen in Python:\n",
    "\n",
    "|Abkürzung|Beschreibung|Kennzeichen|Beispiel|\n",
    "|:--- |:--- |:--- |:--- |\n",
    "|int|ganze Zahl|kein Dezimalpunkt|5| \n",
    "|str|Text, auch \"Zeichenkette\" oder \"String\" genannt|Anführungszeichen|\"Hallo Welt\"|\n",
    "|float|Dezimalbruch, auch \"Fließkommazahl\" genannt|Dezimalpunkt|1.25|\n",
    "|list|Liste von Objekten, die zusammengehören|eckige Klammern, Kommas|[5,\"Hallo Welt\",1.25]|"
   ]
  },
  {
   "cell_type": "markdown",
   "metadata": {},
   "source": [
    "### Beispiele:"
   ]
  },
  {
   "cell_type": "code",
   "execution_count": 1,
   "metadata": {},
   "outputs": [
    {
     "data": {
      "text/plain": [
       "float"
      ]
     },
     "execution_count": 1,
     "metadata": {},
     "output_type": "execute_result"
    }
   ],
   "source": [
    "type(1.25)"
   ]
  },
  {
   "cell_type": "code",
   "execution_count": 2,
   "metadata": {},
   "outputs": [
    {
     "data": {
      "text/plain": [
       "str"
      ]
     },
     "execution_count": 2,
     "metadata": {},
     "output_type": "execute_result"
    }
   ],
   "source": [
    "type(\"1.25\")"
   ]
  },
  {
   "cell_type": "code",
   "execution_count": 3,
   "metadata": {},
   "outputs": [
    {
     "data": {
      "text/plain": [
       "list"
      ]
     },
     "execution_count": 3,
     "metadata": {},
     "output_type": "execute_result"
    }
   ],
   "source": [
    "type([1.25])"
   ]
  },
  {
   "cell_type": "markdown",
   "metadata": {},
   "source": [
    "### Aufgabe 6:\n",
    "Löse die folgenden Aufgaben in Python und speichere das Ergebnis unter *VornameNachname*-aufgabe6.ipynb auf Laufwerk H:.\n",
    "\n",
    "1. Konstruiere eine Liste, die vier (4) *verschiedene* Datentypen enthält, und gib sie auf dem Bildschirm aus. \n",
    "2. Konstruiere eine Liste, die fünf (5) Elemente enthält, und weise nach, dass es tatsächlich 5 sind, indem du die Länge der Liste auf dem Bildschirm ausgeben lässt."
   ]
  },
  {
   "cell_type": "code",
   "execution_count": null,
   "metadata": {},
   "outputs": [],
   "source": []
  },
  {
   "cell_type": "code",
   "execution_count": null,
   "metadata": {},
   "outputs": [],
   "source": []
  }
 ],
 "metadata": {
  "kernelspec": {
   "display_name": "Python 3",
   "language": "python",
   "name": "python3"
  },
  "language_info": {
   "codemirror_mode": {
    "name": "ipython",
    "version": 3
   },
   "file_extension": ".py",
   "mimetype": "text/x-python",
   "name": "python",
   "nbconvert_exporter": "python",
   "pygments_lexer": "ipython3",
   "version": "3.7.1"
  },
  "widgets": {
   "application/vnd.jupyter.widget-state+json": {
    "state": {},
    "version_major": 1,
    "version_minor": 0
   }
  }
 },
 "nbformat": 4,
 "nbformat_minor": 2
}
