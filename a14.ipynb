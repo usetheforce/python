{
 "cells": [
  {
   "cell_type": "markdown",
   "metadata": {},
   "source": [
    "## Mehr über den Datentyp \"Text\"\n",
    "\n",
    "\n",
    "TODO\n",
    "\n",
    "slicing, .split(), .replace(), ..."
   ]
  },
  {
   "cell_type": "code",
   "execution_count": 8,
   "metadata": {},
   "outputs": [
    {
     "name": "stdout",
     "output_type": "stream",
     "text": [
      "Das ist wahr!\n"
     ]
    }
   ],
   "source": [
    "if 1==1:\n",
    "    print( \"Das ist wahr!\")"
   ]
  },
  {
   "cell_type": "markdown",
   "metadata": {},
   "source": [
    "Wichtig ist hier, dass alle nachfolgenden Zeilen, die eingerückt sind (am Besten mit Tabulator-Taste) ausgeführt werden, wenn die Bedingung wahr ist. Ist sie falsch, werden sie übersprungen. Beispiel:"
   ]
  },
  {
   "cell_type": "code",
   "execution_count": 10,
   "metadata": {},
   "outputs": [
    {
     "name": "stdout",
     "output_type": "stream",
     "text": [
      "Das nicht!\n"
     ]
    }
   ],
   "source": [
    "if 2<1:\n",
    "    print( \"Das wird übersprungen!\")\n",
    "    print( \"Das auch!\")\n",
    "    \n",
    "    print( \"Das auch!\")\n",
    "print( \"Das nicht!\")"
   ]
  },
  {
   "cell_type": "markdown",
   "metadata": {},
   "source": [
    "Will man beide Fälle behandeln, also den Fall, dass die Bedingung wahr ist, und den, dass sie falsch ist, kann man die `else` Anweisung benutzen. Beispiel:"
   ]
  },
  {
   "cell_type": "code",
   "execution_count": 11,
   "metadata": {},
   "outputs": [
    {
     "name": "stdout",
     "output_type": "stream",
     "text": [
      "Nein, sie ist falsch\n"
     ]
    }
   ],
   "source": [
    "if 2<1:\n",
    "    print( \"Bedingung ist wahr\")\n",
    "else:\n",
    "    print( \"Nein, sie ist falsch\")"
   ]
  },
  {
   "cell_type": "markdown",
   "metadata": {},
   "source": [
    "### Hinweis:\n",
    "\n",
    "Auch Verzweigungen kann man verschachteln. Man muss dann aber jedes Mal ein Stück weiter einrücken. Und wie immer: Doppelpunkt nicht vergessen! 😄"
   ]
  },
  {
   "cell_type": "code",
   "execution_count": 12,
   "metadata": {},
   "outputs": [
    {
     "name": "stdout",
     "output_type": "stream",
     "text": [
      "Das ist schon mal wahr\n",
      "Das auch\n"
     ]
    }
   ],
   "source": [
    "if 1+1==2:\n",
    "    print(\"Das ist schon mal wahr\")\n",
    "    if 1+1>1:\n",
    "        print(\"Das auch\")"
   ]
  },
  {
   "cell_type": "markdown",
   "metadata": {},
   "source": [
    "### Aufgabe 10:\n",
    "Löse die folgenden Aufgaben in Python und speichere das Ergebnis unter *VornameNachname*-aufgabe10.ipynb auf Laufwerk H:.\n",
    "\n",
    "1. Finde durch <i>eine</i> Zeile Python-Code heraus, ob die Zahl 2520 sich schreiben lässt als Produkt folgender Zahlen:<br>\n",
    "· 9, 8, 7 und 5<br>\n",
    "· 6, 12 und 35<br>\n",
    "· 15, 14 und 12\n",
    "2. Finde durch Probieren mit <i>einer</i> Zeile Python-Code heraus, welche der Zahlen von 1 bis 10 folgende Bedinungen erfüllen:<br>\n",
    "· keine Primzahl (also nicht 2, 3, 5, 7)<br>\n",
    "· eine Quadratzahl (also das Produkt mit sich selbst ist 1, 4 oder 9)<br>\n",
    "· die Zahl ist größer oder gleich 2"
   ]
  },
  {
   "cell_type": "code",
   "execution_count": null,
   "metadata": {},
   "outputs": [],
   "source": []
  }
 ],
 "metadata": {
  "kernelspec": {
   "display_name": "Python 3",
   "language": "python",
   "name": "python3"
  },
  "language_info": {
   "codemirror_mode": {
    "name": "ipython",
    "version": 3
   },
   "file_extension": ".py",
   "mimetype": "text/x-python",
   "name": "python",
   "nbconvert_exporter": "python",
   "pygments_lexer": "ipython3",
   "version": "3.7.1"
  },
  "widgets": {
   "application/vnd.jupyter.widget-state+json": {
    "state": {},
    "version_major": 1,
    "version_minor": 0
   }
  }
 },
 "nbformat": 4,
 "nbformat_minor": 2
}
