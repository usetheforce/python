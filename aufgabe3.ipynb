{
 "cells": [
  {
   "cell_type": "markdown",
   "metadata": {},
   "source": [
    "### Aufgabe 3: Zellen löschen und verschieben\n",
    "\n",
    "Verschiebe Zelle 3 per \"drag and drop\" zwischen Zelle 1 und 2 und lösche Zelle 1 mit dem Scheren-Symbol.\n",
    "\n",
    "Speichere das Ergebnis unter *VornameNachname*-aufgabe3.ipynb auf Laufwerk H:"
   ]
  },
  {
   "cell_type": "markdown",
   "metadata": {},
   "source": [
    "### Zelle 1\n",
    "\n",
    "Springt der Hirsch über'n Boch ..."
   ]
  },
  {
   "cell_type": "markdown",
   "metadata": {},
   "source": [
    "### Zelle 2\n",
    "\n",
    "Brombeer-Blattl oba vo da Staud'n."
   ]
  },
  {
   "cell_type": "markdown",
   "metadata": {},
   "source": [
    "### Zelle 3\n",
    "\n",
    "Zupft eam zwoa zwi-zipferte, scheene greane "
   ]
  }
 ],
 "metadata": {
  "kernelspec": {
   "display_name": "Python 3",
   "language": "python",
   "name": "python3"
  },
  "language_info": {
   "codemirror_mode": {
    "name": "ipython",
    "version": 3
   },
   "file_extension": ".py",
   "mimetype": "text/x-python",
   "name": "python",
   "nbconvert_exporter": "python",
   "pygments_lexer": "ipython3",
   "version": "3.6.6"
  },
  "widgets": {
   "application/vnd.jupyter.widget-state+json": {
    "state": {},
    "version_major": 1,
    "version_minor": 0
   }
  }
 },
 "nbformat": 4,
 "nbformat_minor": 2
}
