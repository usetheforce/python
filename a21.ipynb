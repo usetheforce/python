{
 "cells": [
  {
   "cell_type": "markdown",
   "metadata": {},
   "source": [
    "## Auswahlabfragen\n",
    "\n",
    "Lesen Sie im Buch die Seiten 50 bis 52 durch. Mit deren Hilfe sollten Sie folgende Aufgaben lösen können:\n",
    "\n",
    "### Aufgabe 21:\n",
    "\n",
    "1. Geben Sie mit Hilfe der Datenbankdatei <i>terra1.db</i> eine Liste der Namen aller Länder der Erde aus. Zählen Sie, wieviele Länder es gibt.\n",
    "- Finden Sie mit Hilfe der Datenbankdatei <i>terra1.db</i> heraus, ob es einen Ort auf der Welt gibt, der genau 100.000 Einwohner hat.\n",
    "- Geben Sie mit Hilfe der Datenbankdatei <i>terra1.db</i> eine Liste aller Orte Deutschlands aus, die zwischen 100.000 und 200.000 Einwohner haben und ordnen Sie sie absteigend nach Einwohnerzahl.\n",
    "- Geben Sie mit Hilfe der Datenbankdatei <i>terra1.db</i> für alle Ort der Welt, die ein \"dorf\" im Namen haben, Name, Einwohnerzahl und Land, in dem sie sich befinden, aus. Zählen Sie, wieviele Orte dieser Art es gibt und wieviele Einwohner insgesamt darin wohnen."
   ]
  },
  {
   "cell_type": "markdown",
   "metadata": {},
   "source": [
    "#### Lösung:\n",
    "1. Es gibt 197 Länder:<br>\n",
    "Algerien<br>\n",
    ".<br>\n",
    ".<br>\n",
    ".<br>\n",
    "Venezuela\n",
    "2. Port Blair , Indien , 100000 Einwohner\n",
    "3. Kassel , 194747 Einwohner<br>\n",
    ".<br>\n",
    ".<br>\n",
    ".<br>\n",
    "Siegen , 100325 Einwohner\n",
    "4. Es gibt 1170 Orte:<br>\n",
    "Moordorf bei Westermoor , Deutschland , 20 Einwohner<br>\n",
    ".<br>\n",
    ".<br>\n",
    ".<br>\n",
    "Düsseldorf , Deutschland , 604527 Einwohner<br>\n",
    "Einwohner gesamt: 3856836"
   ]
  }
 ],
 "metadata": {
  "kernelspec": {
   "display_name": "Python 3",
   "language": "python",
   "name": "python3"
  },
  "language_info": {
   "codemirror_mode": {
    "name": "ipython",
    "version": 3
   },
   "file_extension": ".py",
   "mimetype": "text/x-python",
   "name": "python",
   "nbconvert_exporter": "python",
   "pygments_lexer": "ipython3",
   "version": "3.7.1"
  },
  "widgets": {
   "application/vnd.jupyter.widget-state+json": {
    "state": {},
    "version_major": 1,
    "version_minor": 0
   }
  }
 },
 "nbformat": 4,
 "nbformat_minor": 2
}
