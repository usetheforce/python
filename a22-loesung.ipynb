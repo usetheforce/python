{
 "cells": [
  {
   "cell_type": "markdown",
   "metadata": {},
   "source": [
    "## Lösung:\n",
    "\n",
    "2. Fügen Sie in die Tabelle \"Freunde\" die Freunde \"Donald\", \"Daisy\" und \"Dagobert\" mit den Telefonnummern 117, 118 und 119 ein. Alle drei wohnen in Entenhausen. Überprüfen Sie durch ein anschließendes `SELECT`-Statement, ob die Werte auch richtig eingetragen wurden"
   ]
  },
  {
   "cell_type": "code",
   "execution_count": 37,
   "metadata": {},
   "outputs": [
    {
     "name": "stdout",
     "output_type": "stream",
     "text": [
      "[('Donald', 117, 'Entenhausen'), ('Daisy', 118, 'Entenhausen'), ('Dagobert', 119, 'Entenhausen')]\n"
     ]
    }
   ],
   "source": [
    "import sqlite3 \n",
    "\n",
    "datenbankverbindung = sqlite3.connect( \"freunde.db\") \n",
    "\n",
    "cursor = datenbankverbindung.cursor() \n",
    "\n",
    "cursor.execute(\"INSERT INTO Freunde ( Name, Telefonnummer, Wohnort) VALUES ('Donald', 117, 'Entenhausen');\") \n",
    "cursor.execute(\"INSERT INTO Freunde ( Name, Telefonnummer, Wohnort) VALUES ('Daisy', 118, 'Entenhausen');\") \n",
    "cursor.execute(\"INSERT INTO Freunde ( Name, Telefonnummer, Wohnort) VALUES ('Dagobert', 119, 'Entenhausen');\") \n",
    "cursor.execute(\"SELECT * FROM Freunde;\") \n",
    "\n",
    "datenbankverbindung.commit()\n",
    "\n",
    "ergebnis = cursor.fetchall() \n",
    "print ( ergebnis )\n",
    "\n",
    "datenbankverbindung.close() "
   ]
  },
  {
   "cell_type": "markdown",
   "metadata": {},
   "source": [
    "3. Löschen Sie \"Dagobert\" aus der \"Freunde\"-Tabelle. Überprüfen Sie das Ergebnis."
   ]
  },
  {
   "cell_type": "code",
   "execution_count": 38,
   "metadata": {},
   "outputs": [
    {
     "name": "stdout",
     "output_type": "stream",
     "text": [
      "[('Donald', 117, 'Entenhausen'), ('Daisy', 118, 'Entenhausen')]\n"
     ]
    }
   ],
   "source": [
    "import sqlite3 \n",
    "\n",
    "datenbankverbindung = sqlite3.connect( \"freunde.db\") \n",
    "\n",
    "cursor = datenbankverbindung.cursor() \n",
    "\n",
    "cursor.execute(\"DELETE FROM Freunde WHERE Name = 'Dagobert';\") \n",
    "cursor.execute(\"SELECT * FROM Freunde;\") \n",
    "\n",
    "datenbankverbindung.commit()\n",
    "\n",
    "ergebnis = cursor.fetchall() \n",
    "print ( ergebnis )\n",
    "\n",
    "datenbankverbindung.close() "
   ]
  },
  {
   "cell_type": "markdown",
   "metadata": {},
   "source": [
    "4. Ändern Sie den Namen von \"Donald\" in \"Phantomias\" und seine Rufnummer in 999. Überprüfen Sie das Ergebnis."
   ]
  },
  {
   "cell_type": "code",
   "execution_count": 39,
   "metadata": {},
   "outputs": [
    {
     "name": "stdout",
     "output_type": "stream",
     "text": [
      "[('Phantomias', 999, 'Entenhausen'), ('Daisy', 118, 'Entenhausen')]\n"
     ]
    }
   ],
   "source": [
    "import sqlite3 \n",
    "\n",
    "datenbankverbindung = sqlite3.connect( \"freunde.db\") \n",
    "\n",
    "cursor = datenbankverbindung.cursor() \n",
    "\n",
    "cursor.execute(\"UPDATE Freunde SET Name = 'Phantomias',Telefonnummer = 999 WHERE Name = 'Donald';\") \n",
    "cursor.execute(\"SELECT * FROM Freunde;\") \n",
    "\n",
    "datenbankverbindung.commit()\n",
    "\n",
    "ergebnis = cursor.fetchall() \n",
    "print ( ergebnis )\n",
    "\n",
    "datenbankverbindung.close() "
   ]
  }
 ],
 "metadata": {
  "kernelspec": {
   "display_name": "Python 3",
   "language": "python",
   "name": "python3"
  },
  "language_info": {
   "codemirror_mode": {
    "name": "ipython",
    "version": 3
   },
   "file_extension": ".py",
   "mimetype": "text/x-python",
   "name": "python",
   "nbconvert_exporter": "python",
   "pygments_lexer": "ipython3",
   "version": "3.7.1"
  },
  "widgets": {
   "application/vnd.jupyter.widget-state+json": {
    "state": {},
    "version_major": 1,
    "version_minor": 0
   }
  }
 },
 "nbformat": 4,
 "nbformat_minor": 2
}
