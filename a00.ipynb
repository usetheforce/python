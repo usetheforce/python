{
 "cells": [
  {
   "cell_type": "markdown",
   "metadata": {},
   "source": [
    "## Das ist eine Überschrift.\n",
    "Das ist ein *formatierter Text* (\"markdown\"). \n",
    "\n",
    "Doppel-Klick hier rein, um zu editieren.\n",
    "\n",
    "\"Shift + Steuerung\" um wieder anzuzeigen."
   ]
  },
  {
   "cell_type": "markdown",
   "metadata": {},
   "source": [
    "Es gibt zwei Sorten von \"cells\":\n",
    "+ Markdown (formatierter Text)\n",
    "+ python-code"
   ]
  },
  {
   "cell_type": "markdown",
   "metadata": {},
   "source": [
    "### Aufgabe 1:\n",
    "Füge dieser Datei jeweils eine \"cell\" markdown und eine \"cell\" mit python-Code hinzu. Benutze dazu das \"+\"-Symbol in *diesem* Fenster links oben."
   ]
  },
  {
   "cell_type": "markdown",
   "metadata": {},
   "source": [
    "### Lösung:"
   ]
  },
  {
   "cell_type": "markdown",
   "metadata": {},
   "source": [
    "Mein kleiner Text. Mein *schräger* Text. Mein **fetter** Text."
   ]
  },
  {
   "cell_type": "code",
   "execution_count": 1,
   "metadata": {},
   "outputs": [
    {
     "name": "stdout",
     "output_type": "stream",
     "text": [
      "Hallo Welt.\n"
     ]
    }
   ],
   "source": [
    "print (\"Hallo Welt.\")\n",
    "# Die Ausgabe des Befehls ist NICHT editierbar."
   ]
  },
  {
   "cell_type": "markdown",
   "metadata": {},
   "source": [
    "### Hinweis:\n",
    "Wenn das Ausführen nicht geht, musst du eventuell den \"Kernel\" neu starten. (Menü \"Kernel\" -> \"restart kernel\")\n",
    "\n",
    "Dass das nötig ist, erkennt man am Kreissymbol rechts oben neben \"Python 3\". Ist der Kreis weiß, läuft der Kernel. Ist er schwarz, muss er neu gestartet werden."
   ]
  }
 ],
 "metadata": {
  "kernelspec": {
   "display_name": "Python 3",
   "language": "python",
   "name": "python3"
  },
  "language_info": {
   "codemirror_mode": {
    "name": "ipython",
    "version": 3
   },
   "file_extension": ".py",
   "mimetype": "text/x-python",
   "name": "python",
   "nbconvert_exporter": "python",
   "pygments_lexer": "ipython3",
   "version": "3.7.1"
  },
  "widgets": {
   "application/vnd.jupyter.widget-state+json": {
    "state": {},
    "version_major": 1,
    "version_minor": 0
   }
  }
 },
 "nbformat": 4,
 "nbformat_minor": 2
}
