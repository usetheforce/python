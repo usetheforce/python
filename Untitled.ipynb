{
 "cells": [
  {
   "cell_type": "code",
   "execution_count": 10,
   "metadata": {},
   "outputs": [
    {
     "name": "stdout",
     "output_type": "stream",
     "text": [
      "a00.ipynb\n",
      "a01.ipynb\n",
      "a02.ipynb\n",
      "a03.ipynb\n",
      "a04.ipynb\n",
      "a05.ipynb\n",
      "a06.ipynb\n",
      "a07.ipynb\n",
      "a08.ipynb\n",
      "a09.ipynb\n",
      "a10.ipynb\n",
      "a11.ipynb\n",
      "a12.ipynb\n",
      "a12-loesung.ipynb\n",
      "a13.ipynb\n",
      "a13-loesung.ipynb\n",
      "a14.ipynb\n",
      "a15.ipynb\n",
      "a15-loesung.ipynb\n",
      "a16.ipynb\n",
      "a17.ipynb\n",
      "a18.ipynb\n",
      "a19.ipynb\n",
      "a19-loesung.ipynb\n",
      "a20.ipynb\n",
      "a20-loesung.ipynb\n",
      "a21.ipynb\n",
      "a21-loesung.ipynb\n",
      "a22.html\n",
      "a22.ipynb\n",
      "a22-loesung.ipynb\n",
      "a23.ipynb\n",
      "binder\n",
      "Firma.db\n",
      "freunde.db\n",
      "index.ipynb\n",
      "inhalt.md\n",
      "meineKleineDatei.txt\n",
      "notebook.tex\n",
      "README.md\n",
      "terra1.db\n",
      "Untitled.ipynb\n",
      "[NbConvertApp] Converting notebook a22.ipynb to html\n",
      "[NbConvertApp] Writing 262367 bytes to a22.html\n"
     ]
    }
   ],
   "source": [
    "import subprocess\n",
    "print( subprocess.getoutput(\"ls\") )\n",
    "print( subprocess.getoutput(\"jupyter nbconvert --to html a22.ipynb\") )"
   ]
  }
 ],
 "metadata": {
  "kernelspec": {
   "display_name": "Python 3",
   "language": "python",
   "name": "python3"
  },
  "language_info": {
   "codemirror_mode": {
    "name": "ipython",
    "version": 3
   },
   "file_extension": ".py",
   "mimetype": "text/x-python",
   "name": "python",
   "nbconvert_exporter": "python",
   "pygments_lexer": "ipython3",
   "version": "3.7.1"
  }
 },
 "nbformat": 4,
 "nbformat_minor": 2
}
