{
 "cells": [
  {
   "cell_type": "markdown",
   "metadata": {},
   "source": [
    "#### Berufliche Schulen Schönbrunn\n",
    "# Python-Kurs\n",
    "### Python + Jupyter + Datenbanken in Aufgaben\n",
    "<i>Links ist ein File-Browser. Öffne (Doppelklick) \"a01.ipynb\"!</i>\n",
    "#### Inhaltsverzeichnis:"
   ]
  },
  {
   "cell_type": "code",
   "execution_count": 32,
   "metadata": {},
   "outputs": [
    {
     "name": "stdout",
     "output_type": "stream",
     "text": [
      "a01 \t Das ist eine Überschrift. \n",
      "a02 \t Aufgabe 2: \n",
      "a03 \t Zellen löschen und verschieben \n",
      "a04 \t Python als Taschenrechner \n",
      "a05 \t Befehle und Argumente \n",
      "a06a \t Datentypen \n",
      "a06b \t Umwandlung eines Datentyps in einen anderen \n",
      "a07 \t Variablen \n",
      "a08a \t Mehr über Listen \n",
      "a08b \t Noch mehr über Listen \n",
      "a09 \t Dictionaries \n",
      "a10 \t Verzweigungen \n",
      "a11 \t Verzweigung II \n",
      "a12a \t Schleifen \n",
      "a12b \t Automatische Zahlenlisten \n",
      "a13 \t Mehr über den Datentyp \"Text\" \n",
      "a14a \t Arbeiten mit Dateien \n",
      "a14b \t Befehls-Bibliotheken \n",
      "a15 \t Objekte abspeichern im \"JSON\"-Format \n",
      "a17 \t Aufbau und Aufgaben eines Datenbanksystems \n",
      "a18 \t SQL \n",
      "a19 \t Auswahlabfragen \n",
      "a20 \t Aktionsabfragen \n"
     ]
    }
   ],
   "source": [
    "import os\n",
    "import json\n",
    "\n",
    "dirlist = os.listdir(\".\")\n",
    "\n",
    "ziffern = \"0123456789\"\n",
    "aufgabendateien = []\n",
    "for datei in dirlist:\n",
    "    if datei[0]==\"a\" and datei[1] in ziffern:\n",
    "        if datei[2] in ziffern and not \"loesung\" in datei:\n",
    "            aufgabendateien.append( datei )\n",
    "aufgabendateien.sort()\n",
    "#print( aufgabendateien )\n",
    "\n",
    "for datei in aufgabendateien:\n",
    "    filedescriptor = open( datei )\n",
    "    inhalt = json.load(filedescriptor)\n",
    "    filedescriptor.close()\n",
    "    print( datei.split(\".\")[0], u\"\\t\", inhalt[\"cells\"][0][\"source\"][0]\n",
    "          .replace(\"## \",\"\").replace(u\"\\n\",\"\"),\"\" )"
   ]
  }
 ],
 "metadata": {
  "kernelspec": {
   "display_name": "Python 3",
   "language": "python",
   "name": "python3"
  },
  "language_info": {
   "codemirror_mode": {
    "name": "ipython",
    "version": 3
   },
   "file_extension": ".py",
   "mimetype": "text/x-python",
   "name": "python",
   "nbconvert_exporter": "python",
   "pygments_lexer": "ipython3",
   "version": "3.7.1"
  },
  "widgets": {
   "application/vnd.jupyter.widget-state+json": {
    "state": {},
    "version_major": 1,
    "version_minor": 0
   }
  }
 },
 "nbformat": 4,
 "nbformat_minor": 2
}
