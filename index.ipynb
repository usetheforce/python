{
 "cells": [
  {
   "cell_type": "markdown",
   "metadata": {},
   "source": [
    "#### Berufliche Schulen Schönbrunn\n",
    "# Python-Kurs\n",
    "### Python + Jupyter + Datenbanken in Aufgaben\n",
    "<i>Links ist ein File-Browser. Öffne (Doppelklick) \"a00.ipynb\"!</i>\n"
   ]
  },
  {
   "cell_type": "code",
   "execution_count": 25,
   "metadata": {},
   "outputs": [],
   "source": [
    "import os\n",
    "import json\n",
    "\n",
    "dirlist = os.listdir(\".\")\n",
    "\n",
    "ziffern = \"0123456789\"\n",
    "aufgabendateien = []\n",
    "for datei in dirlist:\n",
    "    if datei[0]==\"a\" and datei[1] in ziffern:\n",
    "        if datei[2] in ziffern and not \"loesung\" in datei:\n",
    "            aufgabendateien.append( datei )\n",
    "aufgabendateien.sort()\n",
    "\n",
    "inhaltsverzeichnis = \"## Inhaltsverzeichnis:\\n\\n\"\n",
    "for datei in aufgabendateien:\n",
    "    filedescriptor = open( datei )\n",
    "    inhalt = json.load(filedescriptor)\n",
    "    filedescriptor.close()\n",
    "    inhaltsverzeichnis+= datei.split(\".\")[0] + u\"\\t\"\n",
    "    inhaltsverzeichnis+= inhalt[\"cells\"][0][\"source\"][0].replace(\"## \",\"\").replace(u\"\\n\",\"\") \n",
    "    inhaltsverzeichnis+= \"\\n\\n\"\n",
    "\n",
    "datei = open(\"inhalt.md\",\"w\")\n",
    "datei.write(inhaltsverzeichnis)   \n",
    "datei.close()"
   ]
  }
 ],
 "metadata": {
  "kernelspec": {
   "display_name": "Python 3",
   "language": "python",
   "name": "python3"
  },
  "language_info": {
   "codemirror_mode": {
    "name": "ipython",
    "version": 3
   },
   "file_extension": ".py",
   "mimetype": "text/x-python",
   "name": "python",
   "nbconvert_exporter": "python",
   "pygments_lexer": "ipython3",
   "version": "3.7.1"
  },
  "widgets": {
   "application/vnd.jupyter.widget-state+json": {
    "state": {},
    "version_major": 1,
    "version_minor": 0
   }
  }
 },
 "nbformat": 4,
 "nbformat_minor": 2
}
