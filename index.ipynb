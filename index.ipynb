{
 "cells": [
  {
   "cell_type": "markdown",
   "metadata": {},
   "source": [
    "#### Berufliche Schulen Schönbrunn\n",
    "# Python-Kurs\n",
    "### Python + Jupyter + Datenbanken in Aufgaben\n",
    "<i>Links ist ein File-Browser. Öffne (Doppelklick) \"a00.ipynb\"!</i>\n"
   ]
  },
  {
   "cell_type": "code",
   "execution_count": 15,
   "metadata": {},
   "outputs": [
    {
     "name": "stdout",
     "output_type": "stream",
     "text": [
      "a00 Das ist eine Überschrift.\n",
      "a01 Aufgabe 2:\n",
      "a02 Zellen löschen und verschieben\n",
      "a03 Python als Taschenrechner\n",
      "a04 Befehle und Argumente\n",
      "a05 Datentypen\n",
      "a06 Umwandlung eines Datentyps in einen anderen\n",
      "a07 Variablen\n",
      "a08 Mehr über Listen\n",
      "a09 Dictionaries\n",
      "a10 Noch mehr über Listen\n",
      "a11 Verzweigungen\n",
      "a12 Verzweigung II\n",
      "a13 Schleifen\n",
      "a14 Mehr über den Datentyp \"Text\"\n",
      "a15 Automatische Zahlenlisten\n",
      "a16 Arbeiten mit Dateien\n",
      "a17 Objekte abspeichern im \"JSON\"-Format\n",
      "a18 Befehls-Bibliotheken\n",
      "a19 Aufbau und Aufgaben eines Datenbanksystems\n",
      "a20 SQL\n",
      "a21 Auswahlabfragen\n",
      "a22 Aktionsabfragen\n",
      "a23 JOIN 1\n"
     ]
    }
   ],
   "source": [
    "import os\n",
    "import json\n",
    "\n",
    "dirlist = os.listdir(\".\")\n",
    "\n",
    "ziffern = \"0123456789\"\n",
    "aufgabendateien = []\n",
    "for datei in dirlist:\n",
    "    #print(datei[-6:])\n",
    "    if datei[0]==\"a\" and (datei[1] in ziffern) and datei[-6:]==\".ipynb\":\n",
    "        if datei[2] in ziffern and not \"loesung\" in datei:\n",
    "            aufgabendateien.append( datei )\n",
    "aufgabendateien.sort()\n",
    "\n",
    "inhaltsverzeichnis = \"## Inhaltsverzeichnis:\\n\\n\"\n",
    "link = \"[ßßß](https://htmlpreview.github.io/?https://github.com/usetheforce/test/blob/master/ßßß.html)\"\n",
    "\n",
    "#indexhtml = '<!DOCTYPE html><html><head><meta charset=\"utf-8\" /><title>Inhalt</title>'\n",
    "for datei in aufgabendateien:\n",
    "    filedescriptor = open( datei )\n",
    "    inhalt = json.load(filedescriptor)\n",
    "    filedescriptor.close()\n",
    "    aufgabe = datei.split(\".\")[0] #+ u\"\\t\"\n",
    "    aufgabentitel = inhalt[\"cells\"][0][\"source\"][0].replace(\"## \",\"\").replace(u\"\\n\",\"\") \n",
    "    print( aufgabe,aufgabentitel )\n",
    "    inhaltsverzeichnis+= link.replace(\"ßßß\",aufgabe)\n",
    "    inhaltsverzeichnis+= aufgabentitel\n",
    "    inhaltsverzeichnis+= \"\\n\\n\"\n",
    "    #print( subprocess.getoutput(\"jupyter nbconvert --to html a22.ipynb\") )\n",
    "\n",
    "datei = open(\"inhalt.md\",\"w\")\n",
    "datei.write(inhaltsverzeichnis)   \n",
    "datei.close()"
   ]
  }
 ],
 "metadata": {
  "kernelspec": {
   "display_name": "Python 3",
   "language": "python",
   "name": "python3"
  },
  "language_info": {
   "codemirror_mode": {
    "name": "ipython",
    "version": 3
   },
   "file_extension": ".py",
   "mimetype": "text/x-python",
   "name": "python",
   "nbconvert_exporter": "python",
   "pygments_lexer": "ipython3",
   "version": "3.7.1"
  },
  "widgets": {
   "application/vnd.jupyter.widget-state+json": {
    "state": {},
    "version_major": 1,
    "version_minor": 0
   }
  }
 },
 "nbformat": 4,
 "nbformat_minor": 2
}
