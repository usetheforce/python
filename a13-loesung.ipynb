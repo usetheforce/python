{
 "cells": [
  {
   "cell_type": "markdown",
   "metadata": {},
   "source": [
    "### Aufgabe 12:\n",
    "Löse die folgenden Aufgaben in Python und speichere das Ergebnis unter *VornameNachname*-aufgabe12.ipynb auf Laufwerk H:.\n",
    "\n",
    "1. Gegeben seien drei rechtwinklige, gleichschenklige Dreiecke. Die Katheten seien jeweils 1cm, 3cm und 7,99cm lang. Berechnen Sie die Hypothenusen."
   ]
  },
  {
   "cell_type": "code",
   "execution_count": 10,
   "metadata": {},
   "outputs": [
    {
     "name": "stdout",
     "output_type": "stream",
     "text": [
      "Die Hypothenuse für Kathete 1 ist 2\n",
      "Die Hypothenuse für Kathete 3 ist 18\n",
      "Die Hypothenuse für Kathete 7.99 ist 127.68020000000001\n"
     ]
    }
   ],
   "source": [
    "katheten = [1,3,7.99]\n",
    "for kathete in katheten:\n",
    "    print(\"Die Hypothenuse für Kathete\",kathete,\"ist\",2*kathete*kathete)"
   ]
  },
  {
   "cell_type": "markdown",
   "metadata": {},
   "source": [
    "### Lösung:\n",
    "\n",
    "`Die Hypothenuse für Kathete 1 ist 2`<br>\n",
    "`Die Hypothenuse für Kathete 3 ist 18`<br>\n",
    "`Die Hypothenuse für Kathete 7.99 ist 127.68020000000001`<br>"
   ]
  }
 ],
 "metadata": {
  "kernelspec": {
   "display_name": "Python 3",
   "language": "python",
   "name": "python3"
  },
  "language_info": {
   "codemirror_mode": {
    "name": "ipython",
    "version": 3
   },
   "file_extension": ".py",
   "mimetype": "text/x-python",
   "name": "python",
   "nbconvert_exporter": "python",
   "pygments_lexer": "ipython3",
   "version": "3.7.1"
  },
  "widgets": {
   "application/vnd.jupyter.widget-state+json": {
    "state": {},
    "version_major": 1,
    "version_minor": 0
   }
  }
 },
 "nbformat": 4,
 "nbformat_minor": 2
}
