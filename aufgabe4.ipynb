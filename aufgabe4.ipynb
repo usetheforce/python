{
 "cells": [
  {
   "cell_type": "markdown",
   "metadata": {},
   "source": [
    "## Python als Taschenrechner\n",
    "\n",
    "Python kann die vier Grundrechenarten:\n",
    "\n",
    "|Grundrechenart|Zeichen|Python|\n",
    "| --- |:---:| --- |\n",
    "|Addition|+|+|\n",
    "|Subtraktion|-|-|\n",
    "|Multiplikation|·|*|\n",
    "|Division|:|/|\n",
    "\n"
   ]
  },
  {
   "cell_type": "code",
   "execution_count": 1,
   "metadata": {},
   "outputs": [
    {
     "data": {
      "text/plain": [
       "0.6000000000000001"
      ]
     },
     "execution_count": 1,
     "metadata": {},
     "output_type": "execute_result"
    }
   ],
   "source": [
    "1+2-3*4/5"
   ]
  },
  {
   "cell_type": "markdown",
   "metadata": {},
   "source": [
    "Python erkennt auch Klammern:"
   ]
  },
  {
   "cell_type": "code",
   "execution_count": 5,
   "metadata": {},
   "outputs": [
    {
     "data": {
      "text/plain": [
       "-1.0"
      ]
     },
     "execution_count": 5,
     "metadata": {},
     "output_type": "execute_result"
    }
   ],
   "source": [
    "1+(2-3*4)/5"
   ]
  },
  {
   "cell_type": "markdown",
   "metadata": {},
   "source": [
    "### Hinweise\n",
    "1. Python rundet manchmal falsch -- allerdings erst nach vielen Nachkommastellen. (Das spielt also in der Realität normalerweise keine Rolle.)\n",
    "2. iÍn Dezimalbrüchen wird international ein \"Dezimal*punkt*\" statt eines Kommas verwendet. Python versteht die internationale Schreibweise."
   ]
  },
  {
   "cell_type": "markdown",
   "metadata": {},
   "source": [
    "### Aufgabe 4:\n",
    "Löse die folgenden Rechenaufgaben in Python und speichere das Ergebnis unter *VornameNachname*-aufgabe4.ipynb auf Laufwerk H:.\n",
    "\n",
    "1. $\\frac{1+2}{2}+0{,}25$\n",
    "2. $\\frac{1+2}{3-4}·\\frac{5+6}{7-8}:3{,}3$"
   ]
  },
  {
   "cell_type": "code",
   "execution_count": null,
   "metadata": {},
   "outputs": [],
   "source": []
  },
  {
   "cell_type": "code",
   "execution_count": null,
   "metadata": {},
   "outputs": [],
   "source": []
  },
  {
   "cell_type": "markdown",
   "metadata": {},
   "source": [
    "### Lösung:\n",
    "1. 1\n",
    "2. 10"
   ]
  }
 ],
 "metadata": {
  "kernelspec": {
   "display_name": "Python 3",
   "language": "python",
   "name": "python3"
  },
  "language_info": {
   "codemirror_mode": {
    "name": "ipython",
    "version": 3
   },
   "file_extension": ".py",
   "mimetype": "text/x-python",
   "name": "python",
   "nbconvert_exporter": "python",
   "pygments_lexer": "ipython3",
   "version": "3.6.6"
  },
  "widgets": {
   "application/vnd.jupyter.widget-state+json": {
    "state": {},
    "version_major": 1,
    "version_minor": 0
   }
  }
 },
 "nbformat": 4,
 "nbformat_minor": 2
}
