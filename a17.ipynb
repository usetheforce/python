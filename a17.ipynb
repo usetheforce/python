{
 "cells": [
  {
   "cell_type": "markdown",
   "metadata": {},
   "source": [
    "## Befehls-Bibliotheken\n",
    "\n",
    "Python wird erst so richtig mächtig mit externen Befehls-Bibliotheken.....\n",
    "\n",
    "Einteilung: mitgelieferte Bibliotheken (\"Standard-B.\" ?) und Bibliotheken von Dritten (man kann auch selbst welche machen)\n",
    "\n",
    "Warum lagert man bestimmte Befehle in Bib aus? Übersicht? Speicherplatz sparen?\n",
    "\n",
    "Bsp: math, random, time\n",
    "\n",
    "Aufg: sqrt, irgendwas mit random, asctime()\n",
    "\n",
    "TODO"
   ]
  },
  {
   "cell_type": "code",
   "execution_count": null,
   "metadata": {},
   "outputs": [],
   "source": []
  }
 ],
 "metadata": {
  "kernelspec": {
   "display_name": "Python 3",
   "language": "python",
   "name": "python3"
  },
  "language_info": {
   "codemirror_mode": {
    "name": "ipython",
    "version": 3
   },
   "file_extension": ".py",
   "mimetype": "text/x-python",
   "name": "python",
   "nbconvert_exporter": "python",
   "pygments_lexer": "ipython3",
   "version": "3.7.1"
  },
  "widgets": {
   "application/vnd.jupyter.widget-state+json": {
    "state": {},
    "version_major": 1,
    "version_minor": 0
   }
  }
 },
 "nbformat": 4,
 "nbformat_minor": 2
}
